{
 "cells": [
  {
   "cell_type": "code",
   "execution_count": 80,
   "metadata": {
    "collapsed": false
   },
   "outputs": [],
   "source": [
    "import graphlab as gl\n",
    "import pandas as pd\n",
    "import numpy as np\n",
    "import data_preprocess as dp\n",
    "import random\n",
    "import re\n",
    "import string\n",
    "from sklearn.feature_extraction.text import TfidfVectorizer\n",
    "np.random.seed(42)"
   ]
  },
  {
   "cell_type": "code",
   "execution_count": 63,
   "metadata": {
    "collapsed": false
   },
   "outputs": [
    {
     "name": "stderr",
     "output_type": "stream",
     "text": [
      "data_preprocess.py:59: SettingWithCopyWarning: \n",
      "A value is trying to be set on a copy of a slice from a DataFrame\n",
      "\n",
      "See the caveats in the documentation: http://pandas.pydata.org/pandas-docs/stable/indexing.html#indexing-view-versus-copy\n",
      "  dates = pd.to_datetime(df['date'])\n"
     ]
    }
   ],
   "source": [
    "df = dp.load_data(clean_reviews=False)"
   ]
  },
  {
   "cell_type": "code",
   "execution_count": 64,
   "metadata": {
    "collapsed": false
   },
   "outputs": [],
   "source": [
    "test_idx = np.random.choice(range(df.shape[0]))"
   ]
  },
  {
   "cell_type": "code",
   "execution_count": 65,
   "metadata": {
    "collapsed": true
   },
   "outputs": [],
   "source": [
    "test_prod = df.iloc[0]['product']"
   ]
  },
  {
   "cell_type": "code",
   "execution_count": 66,
   "metadata": {
    "collapsed": false
   },
   "outputs": [
    {
     "data": {
      "text/plain": [
       "u'sunset-haze'"
      ]
     },
     "execution_count": 66,
     "metadata": {},
     "output_type": "execute_result"
    }
   ],
   "source": [
    "test_prod"
   ]
  },
  {
   "cell_type": "code",
   "execution_count": 67,
   "metadata": {
    "collapsed": true
   },
   "outputs": [],
   "source": [
    "test_df = df[df['product'] == test_prod]\n",
    "\n",
    "test_revs = test_df.review.values"
   ]
  },
  {
   "cell_type": "code",
   "execution_count": 69,
   "metadata": {
    "collapsed": false
   },
   "outputs": [
    {
     "data": {
      "text/plain": [
       "array([ u'Love it! Vaped some of this before a dance class and was kiilllin it! So much energy and creativity came with me into that class',\n",
       "       u'Tastes like pooh, but the high is nice and energized without aniexty.',\n",
       "       u\"very intense body high. everything was numb and tingly and time was moving sooooooo slow. smoked a Q of this strain in my life and out of the 100s of other strains I've tried this would definitely be top 3\",\n",
       "       u'I felt like the citrus flavors were overpowered by the flowery RMB.  The taste came off a bit to perfumey for me, but the stone was nice and mellow.',\n",
       "       u\"This strain made me more analytic and I was able to still stay social throughout the high, definitely a pick me up. A solid strong high, but it's a shame how the quality ended up. With the batch I tried, it wasn't flushed out properly so it burned quite harsh. It has a huge potential but it wasn't taken care of properly therefore it caused the effects to dim down and become muddy. Hopefully one day I can try it witho...\",\n",
       "       u\"Hungry. oh so hungry. Once satiated. I was good to go for the rest of the night. three long draws on my pax and I was on my way. social. uplifting. didn't collapse on a couch. would vape again.\",\n",
       "       u\"Gives you an almost instant body high that is outstanding. Nullifies pain better that Vicodin. The head high comes on slow, after 5 min or so you are completely engulfed in one of the BEST highs you'll ever experience. Superb, superb herb!\"], dtype=object)"
      ]
     },
     "execution_count": 69,
     "metadata": {},
     "output_type": "execute_result"
    }
   ],
   "source": [
    "test_revs"
   ]
  },
  {
   "cell_type": "code",
   "execution_count": 70,
   "metadata": {
    "collapsed": false
   },
   "outputs": [
    {
     "data": {
      "text/plain": [
       "u\"This strain made me more analytic and I was able to still stay social throughout the high, definitely a pick me up. A solid strong high, but it's a shame how the quality ended up. With the batch I tried, it wasn't flushed out properly so it burned quite harsh. It has a huge potential but it wasn't taken care of properly therefore it caused the effects to dim down and become muddy. Hopefully one day I can try it witho...\""
      ]
     },
     "execution_count": 70,
     "metadata": {},
     "output_type": "execute_result"
    }
   ],
   "source": [
    "test_revs[4]"
   ]
  },
  {
   "cell_type": "code",
   "execution_count": 71,
   "metadata": {
    "collapsed": false
   },
   "outputs": [
    {
     "data": {
      "text/plain": [
       "u\"This strain made me more analytic and I was able to still stay social throughout the high, definitely a pick me up. A solid strong high, but it's a shame how the quality ended up. With the batch I tried, it wasn't flushed out properly so it burned quite harsh. It has a huge potential but it wasn't taken care of properly therefore it caused the effects to dim down and become muddy. Hopefully one day I can try it \""
      ]
     },
     "execution_count": 71,
     "metadata": {},
     "output_type": "execute_result"
    }
   ],
   "source": [
    "# remove last bit of review with ...\n",
    "re.sub('[A-Za-z0-9]+\\.\\.\\.', '', test_revs[4])"
   ]
  },
  {
   "cell_type": "code",
   "execution_count": 81,
   "metadata": {
    "collapsed": false
   },
   "outputs": [
    {
     "name": "stderr",
     "output_type": "stream",
     "text": [
      "data_preprocess.py:60: SettingWithCopyWarning: \n",
      "A value is trying to be set on a copy of a slice from a DataFrame\n",
      "\n",
      "See the caveats in the documentation: http://pandas.pydata.org/pandas-docs/stable/indexing.html#indexing-view-versus-copy\n",
      "  \n"
     ]
    }
   ],
   "source": [
    "df = dp.load_data()"
   ]
  },
  {
   "cell_type": "code",
   "execution_count": 84,
   "metadata": {
    "collapsed": true
   },
   "outputs": [],
   "source": [
    "test_df = df[df['product'] == test_prod]\n",
    "test_revs = test_df.review.values"
   ]
  },
  {
   "cell_type": "code",
   "execution_count": 85,
   "metadata": {
    "collapsed": false
   },
   "outputs": [
    {
     "data": {
      "text/plain": [
       "'Love it! Vaped some of this before a dance class and was kiilllin it! So much energy and creativity came with me into that class'"
      ]
     },
     "execution_count": 85,
     "metadata": {},
     "output_type": "execute_result"
    }
   ],
   "source": [
    "test_revs = [s.encode('ascii', errors='ignore') for s in test_revs]\n",
    "test_revs[0]"
   ]
  },
  {
   "cell_type": "code",
   "execution_count": 86,
   "metadata": {
    "collapsed": true
   },
   "outputs": [],
   "source": [
    "# get rid of punctuation and line breaks\n",
    "rev_words = [w.translate(None, string.punctuation).lower() for w in test_revs]\n",
    "rev_words = [re.sub('\\n', '', w) for w in rev_words]"
   ]
  },
  {
   "cell_type": "code",
   "execution_count": 99,
   "metadata": {
    "collapsed": false
   },
   "outputs": [
    {
     "name": "stdout",
     "output_type": "stream",
     "text": [
      "high\n",
      "class\n",
      "like\n",
      "nice\n",
      "came\n",
      "hungry\n",
      "tastes\n",
      "energized\n",
      "aniexty\n",
      "pooh\n"
     ]
    }
   ],
   "source": [
    "tfvect = TfidfVectorizer(stop_words='english')\n",
    "review_vects = tfvect.fit_transform(test_revs)\n",
    "vect_words = np.array(tfvect.get_feature_names())\n",
    "review_vects = review_vects.toarray()\n",
    "avg_vects = review_vects.mean(axis=0)\n",
    "sort_idxs = np.array(np.argsort(avg_vects))[::-1]\n",
    "for each in vect_words[sort_idxs][:10]:\n",
    "    print each"
   ]
  },
  {
   "cell_type": "code",
   "execution_count": 6,
   "metadata": {
    "collapsed": false
   },
   "outputs": [],
   "source": [
    "test_idx = []\n",
    "idxs = range(df.shape[0])\n",
    "for i in range(10):\n",
    "    test_idx.append(random.choice(idxs))"
   ]
  },
  {
   "cell_type": "code",
   "execution_count": 7,
   "metadata": {
    "collapsed": false
   },
   "outputs": [
    {
     "data": {
      "text/plain": [
       "[29260, 8415, 89964, 177809, 150923, 32364, 247952, 10680, 219117, 223768]"
      ]
     },
     "execution_count": 7,
     "metadata": {},
     "output_type": "execute_result"
    }
   ],
   "source": [
    "test_idx"
   ]
  },
  {
   "cell_type": "code",
   "execution_count": 8,
   "metadata": {
    "collapsed": true
   },
   "outputs": [],
   "source": [
    "test_prods = df.iloc[test_idx]"
   ]
  },
  {
   "cell_type": "code",
   "execution_count": 9,
   "metadata": {
    "collapsed": false
   },
   "outputs": [
    {
     "data": {
      "text/html": [
       "<div>\n",
       "<table border=\"1\" class=\"dataframe\">\n",
       "  <thead>\n",
       "    <tr style=\"text-align: right;\">\n",
       "      <th></th>\n",
       "      <th>date</th>\n",
       "      <th>product</th>\n",
       "      <th>rating</th>\n",
       "      <th>review</th>\n",
       "      <th>user</th>\n",
       "      <th>time</th>\n",
       "    </tr>\n",
       "  </thead>\n",
       "  <tbody>\n",
       "    <tr>\n",
       "      <th>29260</th>\n",
       "      <td>2013-04-30</td>\n",
       "      <td>white-russian</td>\n",
       "      <td>5.0</td>\n",
       "      <td>This one of my favorite strands, it does the j...</td>\n",
       "      <td>mcjibbaking</td>\n",
       "      <td>10:51:08</td>\n",
       "    </tr>\n",
       "    <tr>\n",
       "      <th>8415</th>\n",
       "      <td>2016-02-28</td>\n",
       "      <td>strawberry-cough</td>\n",
       "      <td>5.0</td>\n",
       "      <td>Can't believe I haven't tried this strain soon...</td>\n",
       "      <td>taylor613</td>\n",
       "      <td>07:44:59</td>\n",
       "    </tr>\n",
       "    <tr>\n",
       "      <th>89964</th>\n",
       "      <td>2015-06-01</td>\n",
       "      <td>citrus-kush</td>\n",
       "      <td>5.0</td>\n",
       "      <td>Love this strain great taste even after you sm...</td>\n",
       "      <td>dizzym</td>\n",
       "      <td>23:12:19</td>\n",
       "    </tr>\n",
       "    <tr>\n",
       "      <th>177809</th>\n",
       "      <td>2012-11-27</td>\n",
       "      <td>trainwreck</td>\n",
       "      <td>4.5</td>\n",
       "      <td>I'm not sure what everyone is talking about wh...</td>\n",
       "      <td>Anonymous</td>\n",
       "      <td>23:23:27</td>\n",
       "    </tr>\n",
       "    <tr>\n",
       "      <th>150923</th>\n",
       "      <td>2014-11-02</td>\n",
       "      <td>og-kush</td>\n",
       "      <td>0.0</td>\n",
       "      <td>Love this strain to death. Smoked a cone joint...</td>\n",
       "      <td>kevingarcia</td>\n",
       "      <td>05:28:41</td>\n",
       "    </tr>\n",
       "    <tr>\n",
       "      <th>32364</th>\n",
       "      <td>2016-08-11</td>\n",
       "      <td>dj-short-blueberry</td>\n",
       "      <td>5.0</td>\n",
       "      <td>LEAF LIFE \\nGOT SOME\\nKILLER\\n🔫🔪🗡\\nDSB</td>\n",
       "      <td>lilhomie420</td>\n",
       "      <td>04:54:59</td>\n",
       "    </tr>\n",
       "    <tr>\n",
       "      <th>247952</th>\n",
       "      <td>2011-02-11</td>\n",
       "      <td>blackberry-kush</td>\n",
       "      <td>4.0</td>\n",
       "      <td></td>\n",
       "      <td>JBT81</td>\n",
       "      <td>09:35:20</td>\n",
       "    </tr>\n",
       "    <tr>\n",
       "      <th>10680</th>\n",
       "      <td>2016-07-01</td>\n",
       "      <td>super-lemon-haze</td>\n",
       "      <td>4.0</td>\n",
       "      <td>I found that when I smoked it I felt anxiety f...</td>\n",
       "      <td>trevor79</td>\n",
       "      <td>08:49:02</td>\n",
       "    </tr>\n",
       "    <tr>\n",
       "      <th>219117</th>\n",
       "      <td>2015-03-24</td>\n",
       "      <td>lemonberry</td>\n",
       "      <td>5.0</td>\n",
       "      <td>Very nice strain for concerts &amp; social gatheri...</td>\n",
       "      <td>booty487</td>\n",
       "      <td>00:30:35</td>\n",
       "    </tr>\n",
       "    <tr>\n",
       "      <th>223768</th>\n",
       "      <td>2013-11-15</td>\n",
       "      <td>sour-diesel</td>\n",
       "      <td>3.5</td>\n",
       "      <td>I really liked this strain but it was pretty h...</td>\n",
       "      <td>warlordofdreanor</td>\n",
       "      <td>20:00:39</td>\n",
       "    </tr>\n",
       "  </tbody>\n",
       "</table>\n",
       "</div>"
      ],
      "text/plain": [
       "              date             product  rating  \\\n",
       "29260   2013-04-30       white-russian     5.0   \n",
       "8415    2016-02-28    strawberry-cough     5.0   \n",
       "89964   2015-06-01         citrus-kush     5.0   \n",
       "177809  2012-11-27          trainwreck     4.5   \n",
       "150923  2014-11-02             og-kush     0.0   \n",
       "32364   2016-08-11  dj-short-blueberry     5.0   \n",
       "247952  2011-02-11     blackberry-kush     4.0   \n",
       "10680   2016-07-01    super-lemon-haze     4.0   \n",
       "219117  2015-03-24          lemonberry     5.0   \n",
       "223768  2013-11-15         sour-diesel     3.5   \n",
       "\n",
       "                                                   review              user  \\\n",
       "29260   This one of my favorite strands, it does the j...       mcjibbaking   \n",
       "8415    Can't believe I haven't tried this strain soon...         taylor613   \n",
       "89964   Love this strain great taste even after you sm...            dizzym   \n",
       "177809  I'm not sure what everyone is talking about wh...         Anonymous   \n",
       "150923  Love this strain to death. Smoked a cone joint...       kevingarcia   \n",
       "32364              LEAF LIFE \\nGOT SOME\\nKILLER\\n🔫🔪🗡\\nDSB       lilhomie420   \n",
       "247952                                                                JBT81   \n",
       "10680   I found that when I smoked it I felt anxiety f...          trevor79   \n",
       "219117  Very nice strain for concerts & social gatheri...          booty487   \n",
       "223768  I really liked this strain but it was pretty h...  warlordofdreanor   \n",
       "\n",
       "            time  \n",
       "29260   10:51:08  \n",
       "8415    07:44:59  \n",
       "89964   23:12:19  \n",
       "177809  23:23:27  \n",
       "150923  05:28:41  \n",
       "32364   04:54:59  \n",
       "247952  09:35:20  \n",
       "10680   08:49:02  \n",
       "219117  00:30:35  \n",
       "223768  20:00:39  "
      ]
     },
     "execution_count": 9,
     "metadata": {},
     "output_type": "execute_result"
    }
   ],
   "source": [
    "test_prods"
   ]
  },
  {
   "cell_type": "code",
   "execution_count": null,
   "metadata": {
    "collapsed": true
   },
   "outputs": [],
   "source": []
  }
 ],
 "metadata": {
  "kernelspec": {
   "display_name": "Python 2",
   "language": "python",
   "name": "python2"
  },
  "language_info": {
   "codemirror_mode": {
    "name": "ipython",
    "version": 2
   },
   "file_extension": ".py",
   "mimetype": "text/x-python",
   "name": "python",
   "nbconvert_exporter": "python",
   "pygments_lexer": "ipython2",
   "version": "2.7.12"
  }
 },
 "nbformat": 4,
 "nbformat_minor": 1
}
