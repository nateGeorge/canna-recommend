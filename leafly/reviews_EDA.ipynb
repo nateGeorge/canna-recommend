{
 "cells": [
  {
   "cell_type": "code",
   "execution_count": 1,
   "metadata": {
    "collapsed": false
   },
   "outputs": [],
   "source": [
    "import pandas as pd\n",
    "import numpy as np\n",
    "import data_preprocess as dp\n",
    "import matplotlib.pyplot as plt\n",
    "%matplotlib inline"
   ]
  },
  {
   "cell_type": "code",
   "execution_count": 2,
   "metadata": {
    "collapsed": false
   },
   "outputs": [
    {
     "name": "stderr",
     "output_type": "stream",
     "text": [
      "data_preprocess.py:195: SettingWithCopyWarning: \n",
      "A value is trying to be set on a copy of a slice from a DataFrame\n",
      "\n",
      "See the caveats in the documentation: http://pandas.pydata.org/pandas-docs/stable/indexing.html#indexing-view-versus-copy\n",
      "  df['product'][df['product'] == p] = product_renames[p]\n"
     ]
    }
   ],
   "source": [
    "df = dp.load_data()"
   ]
  },
  {
   "cell_type": "code",
   "execution_count": 3,
   "metadata": {
    "collapsed": false
   },
   "outputs": [
    {
     "data": {
      "text/html": [
       "<div>\n",
       "<table border=\"1\" class=\"dataframe\">\n",
       "  <thead>\n",
       "    <tr style=\"text-align: right;\">\n",
       "      <th></th>\n",
       "      <th>date</th>\n",
       "      <th>product</th>\n",
       "      <th>rating</th>\n",
       "      <th>review</th>\n",
       "      <th>user</th>\n",
       "      <th>time</th>\n",
       "    </tr>\n",
       "  </thead>\n",
       "  <tbody>\n",
       "    <tr>\n",
       "      <th>0</th>\n",
       "      <td>2016-08-07</td>\n",
       "      <td>sunset-haze</td>\n",
       "      <td>4.0</td>\n",
       "      <td>Love it! Vaped some of this before a dance cla...</td>\n",
       "      <td>CorruptedCupcakez</td>\n",
       "      <td>18:53:38</td>\n",
       "    </tr>\n",
       "    <tr>\n",
       "      <th>1</th>\n",
       "      <td>2016-08-04</td>\n",
       "      <td>sunset-haze</td>\n",
       "      <td>4.0</td>\n",
       "      <td>Tastes like pooh, but the high is nice and ene...</td>\n",
       "      <td>c1n1m1n</td>\n",
       "      <td>04:33:40</td>\n",
       "    </tr>\n",
       "    <tr>\n",
       "      <th>2</th>\n",
       "      <td>2015-12-30</td>\n",
       "      <td>sunset-haze</td>\n",
       "      <td>5.0</td>\n",
       "      <td>very intense body high. everything was numb an...</td>\n",
       "      <td>420cakeit</td>\n",
       "      <td>01:06:32</td>\n",
       "    </tr>\n",
       "    <tr>\n",
       "      <th>3</th>\n",
       "      <td>2015-12-23</td>\n",
       "      <td>sunset-haze</td>\n",
       "      <td>3.0</td>\n",
       "      <td>I felt like the citrus flavors were overpowere...</td>\n",
       "      <td>Smalls2014</td>\n",
       "      <td>20:52:15</td>\n",
       "    </tr>\n",
       "    <tr>\n",
       "      <th>4</th>\n",
       "      <td>2015-12-18</td>\n",
       "      <td>sunset-haze</td>\n",
       "      <td>3.0</td>\n",
       "      <td>This strain made me more analytic and I was ab...</td>\n",
       "      <td>sherrdawgg</td>\n",
       "      <td>18:26:44</td>\n",
       "    </tr>\n",
       "  </tbody>\n",
       "</table>\n",
       "</div>"
      ],
      "text/plain": [
       "         date      product  rating  \\\n",
       "0  2016-08-07  sunset-haze     4.0   \n",
       "1  2016-08-04  sunset-haze     4.0   \n",
       "2  2015-12-30  sunset-haze     5.0   \n",
       "3  2015-12-23  sunset-haze     3.0   \n",
       "4  2015-12-18  sunset-haze     3.0   \n",
       "\n",
       "                                              review               user  \\\n",
       "0  Love it! Vaped some of this before a dance cla...  CorruptedCupcakez   \n",
       "1  Tastes like pooh, but the high is nice and ene...            c1n1m1n   \n",
       "2  very intense body high. everything was numb an...          420cakeit   \n",
       "3  I felt like the citrus flavors were overpowere...         Smalls2014   \n",
       "4  This strain made me more analytic and I was ab...         sherrdawgg   \n",
       "\n",
       "       time  \n",
       "0  18:53:38  \n",
       "1  04:33:40  \n",
       "2  01:06:32  \n",
       "3  20:52:15  \n",
       "4  18:26:44  "
      ]
     },
     "execution_count": 3,
     "metadata": {},
     "output_type": "execute_result"
    }
   ],
   "source": [
    "df.head()"
   ]
  },
  {
   "cell_type": "code",
   "execution_count": 4,
   "metadata": {
    "collapsed": true
   },
   "outputs": [],
   "source": [
    "date_df = df.groupby('date').count()"
   ]
  },
  {
   "cell_type": "code",
   "execution_count": 5,
   "metadata": {
    "collapsed": true
   },
   "outputs": [],
   "source": [
    "date_df_ts = date_df.reset_index()"
   ]
  },
  {
   "cell_type": "code",
   "execution_count": 6,
   "metadata": {
    "collapsed": false
   },
   "outputs": [
    {
     "name": "stderr",
     "output_type": "stream",
     "text": [
      "/usr/local/lib/python2.7/dist-packages/ipykernel/__main__.py:1: FutureWarning: pd.rolling_mean is deprecated for Series and will be removed in a future version, replace with \n",
      "\tSeries.rolling(window=10,center=False).mean()\n",
      "  if __name__ == '__main__':\n"
     ]
    }
   ],
   "source": [
    "date_df_ts['rolling_mean_reviews_p=10'] = pd.rolling_mean(date_df_ts.review, window=10)"
   ]
  },
  {
   "cell_type": "code",
   "execution_count": 7,
   "metadata": {
    "collapsed": false
   },
   "outputs": [
    {
     "data": {
      "text/html": [
       "<div>\n",
       "<table border=\"1\" class=\"dataframe\">\n",
       "  <thead>\n",
       "    <tr style=\"text-align: right;\">\n",
       "      <th></th>\n",
       "      <th>date</th>\n",
       "      <th>product</th>\n",
       "      <th>rating</th>\n",
       "      <th>review</th>\n",
       "      <th>user</th>\n",
       "      <th>time</th>\n",
       "      <th>rolling_mean_reviews_p=10</th>\n",
       "    </tr>\n",
       "  </thead>\n",
       "  <tbody>\n",
       "    <tr>\n",
       "      <th>0</th>\n",
       "      <td>2010-06-12</td>\n",
       "      <td>1</td>\n",
       "      <td>1</td>\n",
       "      <td>1</td>\n",
       "      <td>1</td>\n",
       "      <td>1</td>\n",
       "      <td>NaN</td>\n",
       "    </tr>\n",
       "    <tr>\n",
       "      <th>1</th>\n",
       "      <td>2010-06-14</td>\n",
       "      <td>1</td>\n",
       "      <td>1</td>\n",
       "      <td>1</td>\n",
       "      <td>1</td>\n",
       "      <td>1</td>\n",
       "      <td>NaN</td>\n",
       "    </tr>\n",
       "    <tr>\n",
       "      <th>2</th>\n",
       "      <td>2010-06-16</td>\n",
       "      <td>1</td>\n",
       "      <td>1</td>\n",
       "      <td>1</td>\n",
       "      <td>1</td>\n",
       "      <td>1</td>\n",
       "      <td>NaN</td>\n",
       "    </tr>\n",
       "    <tr>\n",
       "      <th>3</th>\n",
       "      <td>2010-06-19</td>\n",
       "      <td>1</td>\n",
       "      <td>1</td>\n",
       "      <td>1</td>\n",
       "      <td>1</td>\n",
       "      <td>1</td>\n",
       "      <td>NaN</td>\n",
       "    </tr>\n",
       "    <tr>\n",
       "      <th>4</th>\n",
       "      <td>2010-06-22</td>\n",
       "      <td>1</td>\n",
       "      <td>1</td>\n",
       "      <td>1</td>\n",
       "      <td>1</td>\n",
       "      <td>1</td>\n",
       "      <td>NaN</td>\n",
       "    </tr>\n",
       "  </tbody>\n",
       "</table>\n",
       "</div>"
      ],
      "text/plain": [
       "         date  product  rating  review  user  time  rolling_mean_reviews_p=10\n",
       "0  2010-06-12        1       1       1     1     1                        NaN\n",
       "1  2010-06-14        1       1       1     1     1                        NaN\n",
       "2  2010-06-16        1       1       1     1     1                        NaN\n",
       "3  2010-06-19        1       1       1     1     1                        NaN\n",
       "4  2010-06-22        1       1       1     1     1                        NaN"
      ]
     },
     "execution_count": 7,
     "metadata": {},
     "output_type": "execute_result"
    }
   ],
   "source": [
    "date_df_ts.head()"
   ]
  },
  {
   "cell_type": "code",
   "execution_count": 8,
   "metadata": {
    "collapsed": false
   },
   "outputs": [
    {
     "data": {
      "image/png": "[encoded data removed]",
      "text/plain": [
       "<matplotlib.figure.Figure at 0x7f43568bff90>"
      ]
     },
     "metadata": {},
     "output_type": "display_data"
    }
   ],
   "source": [
    "plt.rcParams.update({'font.size': 18})\n",
    "f = plt.figure(figsize=(8, 8))\n",
    "ax = plt.gca()\n",
    "f = date_df_ts.plot(x='date', y='rolling_mean_reviews_p=10', ax=ax)\n",
    "t = plt.title('number of reviews per day')"
   ]
  },
  {
   "cell_type": "code",
   "execution_count": 10,
   "metadata": {
    "collapsed": false
   },
   "outputs": [
    {
     "data": {
      "text/plain": [
       "(152618, 6)"
      ]
     },
     "execution_count": 10,
     "metadata": {},
     "output_type": "execute_result"
    }
   ],
   "source": [
    "df.shape"
   ]
  },
  {
   "cell_type": "code",
   "execution_count": 16,
   "metadata": {
    "collapsed": true
   },
   "outputs": [],
   "source": [
    "df2 = df.copy()\n",
    "df2['sum_col'] = 1"
   ]
  },
  {
   "cell_type": "code",
   "execution_count": 20,
   "metadata": {
    "collapsed": true
   },
   "outputs": [],
   "source": [
    "user_groups = df2.groupby('user')"
   ]
  },
  {
   "cell_type": "code",
   "execution_count": 21,
   "metadata": {
    "collapsed": false
   },
   "outputs": [],
   "source": [
    "user_group_df = user_groups.agg({'sum_col' : np.sum, 'date' : [np.min, np.max]})"
   ]
  },
  {
   "cell_type": "code",
   "execution_count": 22,
   "metadata": {
    "collapsed": false
   },
   "outputs": [
    {
     "data": {
      "text/html": [
       "<div>\n",
       "<table border=\"1\" class=\"dataframe\">\n",
       "  <thead>\n",
       "    <tr>\n",
       "      <th></th>\n",
       "      <th colspan=\"2\" halign=\"left\">date</th>\n",
       "      <th>sum_col</th>\n",
       "    </tr>\n",
       "    <tr>\n",
       "      <th></th>\n",
       "      <th>amin</th>\n",
       "      <th>amax</th>\n",
       "      <th>sum</th>\n",
       "    </tr>\n",
       "    <tr>\n",
       "      <th>user</th>\n",
       "      <th></th>\n",
       "      <th></th>\n",
       "      <th></th>\n",
       "    </tr>\n",
       "  </thead>\n",
       "  <tbody>\n",
       "    <tr>\n",
       "      <th>\"Bob\"</th>\n",
       "      <td>2014-01-17</td>\n",
       "      <td>2014-01-17</td>\n",
       "      <td>1</td>\n",
       "    </tr>\n",
       "    <tr>\n",
       "      <th>$hizzoberry</th>\n",
       "      <td>2010-10-05</td>\n",
       "      <td>2010-10-07</td>\n",
       "      <td>7</td>\n",
       "    </tr>\n",
       "    <tr>\n",
       "      <th>--420--</th>\n",
       "      <td>2015-12-16</td>\n",
       "      <td>2016-09-22</td>\n",
       "      <td>3</td>\n",
       "    </tr>\n",
       "    <tr>\n",
       "      <th>-Jeremy</th>\n",
       "      <td>2014-10-02</td>\n",
       "      <td>2014-10-02</td>\n",
       "      <td>2</td>\n",
       "    </tr>\n",
       "    <tr>\n",
       "      <th>-Mac-</th>\n",
       "      <td>2015-10-19</td>\n",
       "      <td>2015-11-23</td>\n",
       "      <td>3</td>\n",
       "    </tr>\n",
       "  </tbody>\n",
       "</table>\n",
       "</div>"
      ],
      "text/plain": [
       "                   date             sum_col\n",
       "                   amin        amax     sum\n",
       "user                                       \n",
       "\"Bob\"        2014-01-17  2014-01-17       1\n",
       "$hizzoberry  2010-10-05  2010-10-07       7\n",
       "--420--      2015-12-16  2016-09-22       3\n",
       "-Jeremy      2014-10-02  2014-10-02       2\n",
       "-Mac-        2015-10-19  2015-11-23       3"
      ]
     },
     "execution_count": 22,
     "metadata": {},
     "output_type": "execute_result"
    }
   ],
   "source": [
    "user_group_df.head()"
   ]
  },
  {
   "cell_type": "code",
   "execution_count": 26,
   "metadata": {
    "collapsed": false
   },
   "outputs": [
    {
     "data": {
      "text/plain": [
       "amin    2014-01-17\n",
       "amax    2014-01-17\n",
       "Name: \"Bob\", dtype: object"
      ]
     },
     "execution_count": 26,
     "metadata": {},
     "output_type": "execute_result"
    }
   ],
   "source": [
    "user_group_df.iloc[0]['date']"
   ]
  },
  {
   "cell_type": "code",
   "execution_count": null,
   "metadata": {
    "collapsed": true
   },
   "outputs": [],
   "source": []
  },
  {
   "cell_type": "code",
   "execution_count": 31,
   "metadata": {
    "collapsed": false
   },
   "outputs": [
    {
     "data": {
      "text/html": [
       "<div>\n",
       "<table border=\"1\" class=\"dataframe\">\n",
       "  <thead>\n",
       "    <tr style=\"text-align: right;\">\n",
       "      <th></th>\n",
       "      <th>amax</th>\n",
       "    </tr>\n",
       "    <tr>\n",
       "      <th>amin</th>\n",
       "      <th></th>\n",
       "    </tr>\n",
       "  </thead>\n",
       "  <tbody>\n",
       "    <tr>\n",
       "      <th>2010-06-12</th>\n",
       "      <td>1</td>\n",
       "    </tr>\n",
       "    <tr>\n",
       "      <th>2010-06-14</th>\n",
       "      <td>1</td>\n",
       "    </tr>\n",
       "    <tr>\n",
       "      <th>2010-06-16</th>\n",
       "      <td>1</td>\n",
       "    </tr>\n",
       "    <tr>\n",
       "      <th>2010-06-22</th>\n",
       "      <td>1</td>\n",
       "    </tr>\n",
       "    <tr>\n",
       "      <th>2010-07-12</th>\n",
       "      <td>1</td>\n",
       "    </tr>\n",
       "  </tbody>\n",
       "</table>\n",
       "</div>"
      ],
      "text/plain": [
       "            amax\n",
       "amin            \n",
       "2010-06-12     1\n",
       "2010-06-14     1\n",
       "2010-06-16     1\n",
       "2010-06-22     1\n",
       "2010-07-12     1"
      ]
     },
     "execution_count": 31,
     "metadata": {},
     "output_type": "execute_result"
    }
   ],
   "source": [
    "date_user_df = user_group_df['date'].groupby('amin').count()\n",
    "date_user_df.head()\n"
   ]
  },
  {
   "cell_type": "code",
   "execution_count": 36,
   "metadata": {
    "collapsed": false
   },
   "outputs": [
    {
     "data": {
      "text/html": [
       "<div>\n",
       "<table border=\"1\" class=\"dataframe\">\n",
       "  <thead>\n",
       "    <tr style=\"text-align: right;\">\n",
       "      <th></th>\n",
       "      <th>date</th>\n",
       "      <th>amax</th>\n",
       "      <th>rolling_mean_reviews_p=10</th>\n",
       "    </tr>\n",
       "  </thead>\n",
       "  <tbody>\n",
       "    <tr>\n",
       "      <th>0</th>\n",
       "      <td>2010-06-12</td>\n",
       "      <td>1</td>\n",
       "      <td>NaN</td>\n",
       "    </tr>\n",
       "    <tr>\n",
       "      <th>1</th>\n",
       "      <td>2010-06-14</td>\n",
       "      <td>1</td>\n",
       "      <td>NaN</td>\n",
       "    </tr>\n",
       "    <tr>\n",
       "      <th>2</th>\n",
       "      <td>2010-06-16</td>\n",
       "      <td>1</td>\n",
       "      <td>NaN</td>\n",
       "    </tr>\n",
       "    <tr>\n",
       "      <th>3</th>\n",
       "      <td>2010-06-22</td>\n",
       "      <td>1</td>\n",
       "      <td>NaN</td>\n",
       "    </tr>\n",
       "    <tr>\n",
       "      <th>4</th>\n",
       "      <td>2010-07-12</td>\n",
       "      <td>1</td>\n",
       "      <td>NaN</td>\n",
       "    </tr>\n",
       "  </tbody>\n",
       "</table>\n",
       "</div>"
      ],
      "text/plain": [
       "         date  amax  rolling_mean_reviews_p=10\n",
       "0  2010-06-12     1                        NaN\n",
       "1  2010-06-14     1                        NaN\n",
       "2  2010-06-16     1                        NaN\n",
       "3  2010-06-22     1                        NaN\n",
       "4  2010-07-12     1                        NaN"
      ]
     },
     "execution_count": 36,
     "metadata": {},
     "output_type": "execute_result"
    }
   ],
   "source": [
    "date_user_day_df = date_user_df.reset_index()\n",
    "date_user_day_df = date_user_day_df.rename(columns={'amin':'date'})\n",
    "date_user_day_df.head()"
   ]
  },
  {
   "cell_type": "code",
   "execution_count": 39,
   "metadata": {
    "collapsed": false
   },
   "outputs": [
    {
     "name": "stderr",
     "output_type": "stream",
     "text": [
      "/usr/local/lib/python2.7/dist-packages/ipykernel/__main__.py:3: FutureWarning: pd.rolling_mean is deprecated for Series and will be removed in a future version, replace with \n",
      "\tSeries.rolling(window=10,center=False).mean()\n",
      "  app.launch_new_instance()\n"
     ]
    },
    {
     "data": {
      "text/html": [
       "<div>\n",
       "<table border=\"1\" class=\"dataframe\">\n",
       "  <thead>\n",
       "    <tr style=\"text-align: right;\">\n",
       "      <th></th>\n",
       "      <th>date</th>\n",
       "      <th>amax</th>\n",
       "      <th>rolling_mean_reviews_p=10</th>\n",
       "    </tr>\n",
       "  </thead>\n",
       "  <tbody>\n",
       "    <tr>\n",
       "      <th>0</th>\n",
       "      <td>2010-06-12</td>\n",
       "      <td>1</td>\n",
       "      <td>NaN</td>\n",
       "    </tr>\n",
       "    <tr>\n",
       "      <th>1</th>\n",
       "      <td>2010-06-14</td>\n",
       "      <td>1</td>\n",
       "      <td>NaN</td>\n",
       "    </tr>\n",
       "    <tr>\n",
       "      <th>2</th>\n",
       "      <td>2010-06-16</td>\n",
       "      <td>1</td>\n",
       "      <td>NaN</td>\n",
       "    </tr>\n",
       "    <tr>\n",
       "      <th>3</th>\n",
       "      <td>2010-06-22</td>\n",
       "      <td>1</td>\n",
       "      <td>NaN</td>\n",
       "    </tr>\n",
       "    <tr>\n",
       "      <th>4</th>\n",
       "      <td>2010-07-12</td>\n",
       "      <td>1</td>\n",
       "      <td>NaN</td>\n",
       "    </tr>\n",
       "  </tbody>\n",
       "</table>\n",
       "</div>"
      ],
      "text/plain": [
       "         date  amax  rolling_mean_reviews_p=10\n",
       "0  2010-06-12     1                        NaN\n",
       "1  2010-06-14     1                        NaN\n",
       "2  2010-06-16     1                        NaN\n",
       "3  2010-06-22     1                        NaN\n",
       "4  2010-07-12     1                        NaN"
      ]
     },
     "execution_count": 39,
     "metadata": {},
     "output_type": "execute_result"
    }
   ],
   "source": [
    "date_user_day_df_groups = date_user_day_df.groupby('date').sum()\n",
    "date_user_day_df_groups.reset_index(inplace=True)\n",
    "date_user_day_df_groups['rolling_mean_reviews_p=10'] = pd.rolling_mean(date_user_day_df_groups.amax, window=10)\n",
    "date_user_day_df_groups.head()"
   ]
  },
  {
   "cell_type": "code",
   "execution_count": 41,
   "metadata": {
    "collapsed": false
   },
   "outputs": [
    {
     "data": {
      "image/png": "[encoded data removed]",
      "text/plain": [
       "<matplotlib.figure.Figure at 0x7f434c2c6690>"
      ]
     },
     "metadata": {},
     "output_type": "display_data"
    }
   ],
   "source": [
    "plt.rcParams.update({'font.size': 18})\n",
    "f = plt.figure(figsize=(8, 8))\n",
    "ax = plt.gca()\n",
    "f = date_user_day_df_groups.plot(x='date', y='rolling_mean_reviews_p=10', ax=ax)\n",
    "t = plt.title('number of first-time reviews per day')"
   ]
  },
  {
   "cell_type": "code",
   "execution_count": 59,
   "metadata": {
    "collapsed": false
   },
   "outputs": [],
   "source": [
    "fraction_df1 = pd.DataFrame(date_user_day_df_groups['rolling_mean_reviews_p=10'])\n",
    "fraction_df1['date'] = date_user_day_df_groups['date']\n",
    "fraction_df2 = pd.DataFrame(date_df_ts['rolling_mean_reviews_p=10'])\n",
    "fraction_df2['date'] = date_df_ts['date']\n",
    "fraction_df = fraction_df1.merge(fraction_df2, on='date')"
   ]
  },
  {
   "cell_type": "code",
   "execution_count": 60,
   "metadata": {
    "collapsed": false
   },
   "outputs": [
    {
     "name": "stdout",
     "output_type": "stream",
     "text": [
      "<class 'pandas.core.frame.DataFrame'>\n",
      "Int64Index: 2285 entries, 0 to 2284\n",
      "Data columns (total 3 columns):\n",
      "rolling_mean_reviews_p=10_x    2276 non-null float64\n",
      "date                           2285 non-null object\n",
      "rolling_mean_reviews_p=10_y    2277 non-null float64\n",
      "dtypes: float64(2), object(1)\n",
      "memory usage: 71.4+ KB\n"
     ]
    }
   ],
   "source": [
    "fraction_df.info()"
   ]
  },
  {
   "cell_type": "code",
   "execution_count": 61,
   "metadata": {
    "collapsed": false
   },
   "outputs": [],
   "source": [
    "fraction_df.dropna(inplace=True)"
   ]
  },
  {
   "cell_type": "code",
   "execution_count": 62,
   "metadata": {
    "collapsed": false
   },
   "outputs": [],
   "source": [
    "fraction_df['date'] = pd.to_datetime(fraction_df['date'])"
   ]
  },
  {
   "cell_type": "code",
   "execution_count": 65,
   "metadata": {
    "collapsed": false
   },
   "outputs": [],
   "source": [
    "fraction_df['1st_review_rolling_mean_p=10'] = fraction_df['rolling_mean_reviews_p=10_x'] / \\\n",
    "                                                fraction_df['rolling_mean_reviews_p=10_y']"
   ]
  },
  {
   "cell_type": "code",
   "execution_count": 67,
   "metadata": {
    "collapsed": false
   },
   "outputs": [
    {
     "data": {
      "image/png": "[encoded data removed]",
      "text/plain": [
       "<matplotlib.figure.Figure at 0x7f4356875d10>"
      ]
     },
     "metadata": {},
     "output_type": "display_data"
    }
   ],
   "source": [
    "plt.rcParams.update({'font.size': 18})\n",
    "f = plt.figure(figsize=(8, 8))\n",
    "ax = plt.gca()\n",
    "f = fraction_df.plot(x='date', y='1st_review_rolling_mean_p=10', ax=ax)\n",
    "t = plt.title('fraction of first-time reviews per day')"
   ]
  },
  {
   "cell_type": "markdown",
   "metadata": {},
   "source": [
    "# let's checkout the reviews over time for some different products"
   ]
  },
  {
   "cell_type": "code",
   "execution_count": 68,
   "metadata": {
    "collapsed": true
   },
   "outputs": [],
   "source": [
    "prod_groups = df2.groupby('product')"
   ]
  },
  {
   "cell_type": "code",
   "execution_count": null,
   "metadata": {
    "collapsed": true
   },
   "outputs": [],
   "source": []
  },
  {
   "cell_type": "code",
   "execution_count": null,
   "metadata": {
    "collapsed": true
   },
   "outputs": [],
   "source": []
  },
  {
   "cell_type": "code",
   "execution_count": 9,
   "metadata": {
    "collapsed": false
   },
   "outputs": [
    {
     "data": {
      "image/png": "[encoded data removed]",
      "text/plain": [
       "<matplotlib.figure.Figure at 0x7f4355b936d0>"
      ]
     },
     "metadata": {},
     "output_type": "display_data"
    }
   ],
   "source": [
    "f = plt.figure(figsize=(12, 8))\n",
    "ax = plt.gca()\n",
    "f = df.rating.hist(ax=ax, bins=30)"
   ]
  },
  {
   "cell_type": "code",
   "execution_count": 20,
   "metadata": {
    "collapsed": false
   },
   "outputs": [
    {
     "data": {
      "text/plain": [
       "4.3107501147465737"
      ]
     },
     "execution_count": 20,
     "metadata": {},
     "output_type": "execute_result"
    }
   ],
   "source": [
    "df.rating.mean()"
   ]
  },
  {
   "cell_type": "code",
   "execution_count": 21,
   "metadata": {
    "collapsed": false
   },
   "outputs": [
    {
     "name": "stdout",
     "output_type": "stream",
     "text": [
      "65773 unique users\n"
     ]
    }
   ],
   "source": [
    "print df.user.unique().shape[0], 'unique users'"
   ]
  },
  {
   "cell_type": "code",
   "execution_count": 22,
   "metadata": {
    "collapsed": false
   },
   "outputs": [
    {
     "data": {
      "image/png": "[encoded data removed]",
      "text/plain": [
       "<matplotlib.figure.Figure at 0x7fb843989a50>"
      ]
     },
     "metadata": {},
     "output_type": "display_data"
    }
   ],
   "source": [
    "users = df.groupby('user').count()\n",
    "\n",
    "f = plt.figure(figsize=(12, 8))\n",
    "ax = plt.gca()\n",
    "f = users.rating.hist(ax=ax, bins=50)"
   ]
  },
  {
   "cell_type": "code",
   "execution_count": 23,
   "metadata": {
    "collapsed": false
   },
   "outputs": [
    {
     "name": "stdout",
     "output_type": "stream",
     "text": [
      "max number of ratings by a user: 345\n",
      "for user Chill_Panda\n"
     ]
    }
   ],
   "source": [
    "print 'max number of ratings by a user:', users.rating.max()\n",
    "print 'for user', users.rating.argmax()"
   ]
  },
  {
   "cell_type": "markdown",
   "metadata": {},
   "source": [
    "# uhhh...need to remove 'anonymous' reviews. Riiiight\n",
    "\n",
    "## now this is done in the data_preprocess.load_data() function"
   ]
  },
  {
   "cell_type": "code",
   "execution_count": 24,
   "metadata": {
    "collapsed": true
   },
   "outputs": [],
   "source": [
    "df_no_anon = df[df['user'] != 'Anonymous']"
   ]
  },
  {
   "cell_type": "code",
   "execution_count": 25,
   "metadata": {
    "collapsed": false
   },
   "outputs": [
    {
     "data": {
      "image/png": "[encoded data removed]",
      "text/plain": [
       "<matplotlib.figure.Figure at 0x7fb83b6b8790>"
      ]
     },
     "metadata": {},
     "output_type": "display_data"
    }
   ],
   "source": [
    "f =plt.figure(figsize=(12, 8))\n",
    "ax = plt.gca()\n",
    "f = df_no_anon.rating.hist(ax=ax, bins=30)"
   ]
  },
  {
   "cell_type": "code",
   "execution_count": 26,
   "metadata": {
    "collapsed": false
   },
   "outputs": [
    {
     "data": {
      "text/plain": [
       "4.3107501147465737"
      ]
     },
     "execution_count": 26,
     "metadata": {},
     "output_type": "execute_result"
    }
   ],
   "source": [
    "df.rating.mean()"
   ]
  },
  {
   "cell_type": "code",
   "execution_count": 27,
   "metadata": {
    "collapsed": false
   },
   "outputs": [
    {
     "data": {
      "image/png": "[encoded data removed]",
      "text/plain": [
       "<matplotlib.figure.Figure at 0x7fb86bfe3890>"
      ]
     },
     "metadata": {},
     "output_type": "display_data"
    }
   ],
   "source": [
    "users = df_no_anon.groupby('user').count()\n",
    "\n",
    "f = plt.figure(figsize=(12, 8))\n",
    "ax = plt.gca()\n",
    "f = users.rating.hist(ax=ax, bins=50)"
   ]
  },
  {
   "cell_type": "code",
   "execution_count": 28,
   "metadata": {
    "collapsed": false
   },
   "outputs": [
    {
     "name": "stdout",
     "output_type": "stream",
     "text": [
      "max number of ratings by a user: 345\n",
      "for user Chill_Panda\n"
     ]
    }
   ],
   "source": [
    "print 'max number of ratings by a user:', users.rating.max()\n",
    "print 'for user', users.rating.argmax()"
   ]
  },
  {
   "cell_type": "code",
   "execution_count": 29,
   "metadata": {
    "collapsed": false
   },
   "outputs": [
    {
     "data": {
      "text/html": [
       "<div>\n",
       "<table border=\"1\" class=\"dataframe\">\n",
       "  <thead>\n",
       "    <tr style=\"text-align: right;\">\n",
       "      <th></th>\n",
       "      <th>date</th>\n",
       "      <th>product</th>\n",
       "      <th>rating</th>\n",
       "      <th>review</th>\n",
       "      <th>time</th>\n",
       "    </tr>\n",
       "    <tr>\n",
       "      <th>user</th>\n",
       "      <th></th>\n",
       "      <th></th>\n",
       "      <th></th>\n",
       "      <th></th>\n",
       "      <th></th>\n",
       "    </tr>\n",
       "  </thead>\n",
       "  <tbody>\n",
       "    <tr>\n",
       "      <th>Chill_Panda</th>\n",
       "      <td>345</td>\n",
       "      <td>345</td>\n",
       "      <td>345</td>\n",
       "      <td>345</td>\n",
       "      <td>345</td>\n",
       "    </tr>\n",
       "    <tr>\n",
       "      <th>sweetbutter80</th>\n",
       "      <td>266</td>\n",
       "      <td>266</td>\n",
       "      <td>266</td>\n",
       "      <td>266</td>\n",
       "      <td>266</td>\n",
       "    </tr>\n",
       "    <tr>\n",
       "      <th>KindGodess420</th>\n",
       "      <td>200</td>\n",
       "      <td>200</td>\n",
       "      <td>200</td>\n",
       "      <td>200</td>\n",
       "      <td>200</td>\n",
       "    </tr>\n",
       "    <tr>\n",
       "      <th>emanuel80</th>\n",
       "      <td>197</td>\n",
       "      <td>197</td>\n",
       "      <td>197</td>\n",
       "      <td>197</td>\n",
       "      <td>197</td>\n",
       "    </tr>\n",
       "    <tr>\n",
       "      <th>gatorhunts420</th>\n",
       "      <td>180</td>\n",
       "      <td>180</td>\n",
       "      <td>180</td>\n",
       "      <td>180</td>\n",
       "      <td>180</td>\n",
       "    </tr>\n",
       "    <tr>\n",
       "      <th>hi2</th>\n",
       "      <td>161</td>\n",
       "      <td>161</td>\n",
       "      <td>161</td>\n",
       "      <td>161</td>\n",
       "      <td>161</td>\n",
       "    </tr>\n",
       "    <tr>\n",
       "      <th>demis</th>\n",
       "      <td>157</td>\n",
       "      <td>157</td>\n",
       "      <td>157</td>\n",
       "      <td>157</td>\n",
       "      <td>157</td>\n",
       "    </tr>\n",
       "    <tr>\n",
       "      <th>nathanmontgomery</th>\n",
       "      <td>152</td>\n",
       "      <td>152</td>\n",
       "      <td>152</td>\n",
       "      <td>152</td>\n",
       "      <td>152</td>\n",
       "    </tr>\n",
       "    <tr>\n",
       "      <th>eb</th>\n",
       "      <td>151</td>\n",
       "      <td>151</td>\n",
       "      <td>151</td>\n",
       "      <td>151</td>\n",
       "      <td>151</td>\n",
       "    </tr>\n",
       "    <tr>\n",
       "      <th>LegitLogic</th>\n",
       "      <td>138</td>\n",
       "      <td>138</td>\n",
       "      <td>138</td>\n",
       "      <td>138</td>\n",
       "      <td>138</td>\n",
       "    </tr>\n",
       "    <tr>\n",
       "      <th>rizlo</th>\n",
       "      <td>137</td>\n",
       "      <td>137</td>\n",
       "      <td>137</td>\n",
       "      <td>137</td>\n",
       "      <td>137</td>\n",
       "    </tr>\n",
       "    <tr>\n",
       "      <th>vitaman</th>\n",
       "      <td>135</td>\n",
       "      <td>135</td>\n",
       "      <td>135</td>\n",
       "      <td>135</td>\n",
       "      <td>135</td>\n",
       "    </tr>\n",
       "    <tr>\n",
       "      <th>jjjallen</th>\n",
       "      <td>134</td>\n",
       "      <td>134</td>\n",
       "      <td>134</td>\n",
       "      <td>134</td>\n",
       "      <td>134</td>\n",
       "    </tr>\n",
       "    <tr>\n",
       "      <th>AkaTeddd</th>\n",
       "      <td>128</td>\n",
       "      <td>128</td>\n",
       "      <td>128</td>\n",
       "      <td>128</td>\n",
       "      <td>128</td>\n",
       "    </tr>\n",
       "    <tr>\n",
       "      <th>NSomniac</th>\n",
       "      <td>127</td>\n",
       "      <td>127</td>\n",
       "      <td>127</td>\n",
       "      <td>127</td>\n",
       "      <td>127</td>\n",
       "    </tr>\n",
       "    <tr>\n",
       "      <th>JadedTakesThisSerious</th>\n",
       "      <td>123</td>\n",
       "      <td>123</td>\n",
       "      <td>123</td>\n",
       "      <td>123</td>\n",
       "      <td>123</td>\n",
       "    </tr>\n",
       "    <tr>\n",
       "      <th>crazycolton55</th>\n",
       "      <td>117</td>\n",
       "      <td>117</td>\n",
       "      <td>117</td>\n",
       "      <td>117</td>\n",
       "      <td>117</td>\n",
       "    </tr>\n",
       "    <tr>\n",
       "      <th>LeroyBrown420</th>\n",
       "      <td>114</td>\n",
       "      <td>114</td>\n",
       "      <td>114</td>\n",
       "      <td>114</td>\n",
       "      <td>114</td>\n",
       "    </tr>\n",
       "    <tr>\n",
       "      <th>BaronOfBud</th>\n",
       "      <td>107</td>\n",
       "      <td>107</td>\n",
       "      <td>107</td>\n",
       "      <td>107</td>\n",
       "      <td>107</td>\n",
       "    </tr>\n",
       "    <tr>\n",
       "      <th>Samurai_JAC</th>\n",
       "      <td>106</td>\n",
       "      <td>106</td>\n",
       "      <td>106</td>\n",
       "      <td>106</td>\n",
       "      <td>106</td>\n",
       "    </tr>\n",
       "    <tr>\n",
       "      <th>diazeldorado1</th>\n",
       "      <td>105</td>\n",
       "      <td>105</td>\n",
       "      <td>105</td>\n",
       "      <td>105</td>\n",
       "      <td>105</td>\n",
       "    </tr>\n",
       "    <tr>\n",
       "      <th>cascadianmass</th>\n",
       "      <td>104</td>\n",
       "      <td>104</td>\n",
       "      <td>104</td>\n",
       "      <td>104</td>\n",
       "      <td>104</td>\n",
       "    </tr>\n",
       "    <tr>\n",
       "      <th>petethekoala</th>\n",
       "      <td>104</td>\n",
       "      <td>104</td>\n",
       "      <td>104</td>\n",
       "      <td>104</td>\n",
       "      <td>104</td>\n",
       "    </tr>\n",
       "    <tr>\n",
       "      <th>col4bin</th>\n",
       "      <td>104</td>\n",
       "      <td>104</td>\n",
       "      <td>104</td>\n",
       "      <td>104</td>\n",
       "      <td>104</td>\n",
       "    </tr>\n",
       "    <tr>\n",
       "      <th>orgncwhtmlk</th>\n",
       "      <td>102</td>\n",
       "      <td>102</td>\n",
       "      <td>102</td>\n",
       "      <td>102</td>\n",
       "      <td>102</td>\n",
       "    </tr>\n",
       "    <tr>\n",
       "      <th>flipndip187</th>\n",
       "      <td>100</td>\n",
       "      <td>100</td>\n",
       "      <td>100</td>\n",
       "      <td>100</td>\n",
       "      <td>100</td>\n",
       "    </tr>\n",
       "    <tr>\n",
       "      <th>Moss1310</th>\n",
       "      <td>99</td>\n",
       "      <td>99</td>\n",
       "      <td>99</td>\n",
       "      <td>99</td>\n",
       "      <td>99</td>\n",
       "    </tr>\n",
       "    <tr>\n",
       "      <th>weazal</th>\n",
       "      <td>98</td>\n",
       "      <td>98</td>\n",
       "      <td>98</td>\n",
       "      <td>98</td>\n",
       "      <td>98</td>\n",
       "    </tr>\n",
       "    <tr>\n",
       "      <th>VJvalvenus420</th>\n",
       "      <td>97</td>\n",
       "      <td>97</td>\n",
       "      <td>97</td>\n",
       "      <td>97</td>\n",
       "      <td>97</td>\n",
       "    </tr>\n",
       "    <tr>\n",
       "      <th>Ryno602</th>\n",
       "      <td>96</td>\n",
       "      <td>96</td>\n",
       "      <td>96</td>\n",
       "      <td>96</td>\n",
       "      <td>96</td>\n",
       "    </tr>\n",
       "    <tr>\n",
       "      <th>...</th>\n",
       "      <td>...</td>\n",
       "      <td>...</td>\n",
       "      <td>...</td>\n",
       "      <td>...</td>\n",
       "      <td>...</td>\n",
       "    </tr>\n",
       "    <tr>\n",
       "      <th>Unorthodox7</th>\n",
       "      <td>1</td>\n",
       "      <td>1</td>\n",
       "      <td>1</td>\n",
       "      <td>1</td>\n",
       "      <td>1</td>\n",
       "    </tr>\n",
       "    <tr>\n",
       "      <th>Unstopable007</th>\n",
       "      <td>1</td>\n",
       "      <td>1</td>\n",
       "      <td>1</td>\n",
       "      <td>1</td>\n",
       "      <td>1</td>\n",
       "    </tr>\n",
       "    <tr>\n",
       "      <th>UpInSmoke425</th>\n",
       "      <td>1</td>\n",
       "      <td>1</td>\n",
       "      <td>1</td>\n",
       "      <td>1</td>\n",
       "      <td>1</td>\n",
       "    </tr>\n",
       "    <tr>\n",
       "      <th>UpUpAndAway10</th>\n",
       "      <td>1</td>\n",
       "      <td>1</td>\n",
       "      <td>1</td>\n",
       "      <td>1</td>\n",
       "      <td>1</td>\n",
       "    </tr>\n",
       "    <tr>\n",
       "      <th>UnfixedPython</th>\n",
       "      <td>1</td>\n",
       "      <td>1</td>\n",
       "      <td>1</td>\n",
       "      <td>1</td>\n",
       "      <td>1</td>\n",
       "    </tr>\n",
       "    <tr>\n",
       "      <th>UnderpaidStoner</th>\n",
       "      <td>1</td>\n",
       "      <td>1</td>\n",
       "      <td>1</td>\n",
       "      <td>1</td>\n",
       "      <td>1</td>\n",
       "    </tr>\n",
       "    <tr>\n",
       "      <th>Ultimatevirus</th>\n",
       "      <td>1</td>\n",
       "      <td>1</td>\n",
       "      <td>1</td>\n",
       "      <td>1</td>\n",
       "      <td>1</td>\n",
       "    </tr>\n",
       "    <tr>\n",
       "      <th>Underoath94</th>\n",
       "      <td>1</td>\n",
       "      <td>1</td>\n",
       "      <td>1</td>\n",
       "      <td>1</td>\n",
       "      <td>1</td>\n",
       "    </tr>\n",
       "    <tr>\n",
       "      <th>UltraADC</th>\n",
       "      <td>1</td>\n",
       "      <td>1</td>\n",
       "      <td>1</td>\n",
       "      <td>1</td>\n",
       "      <td>1</td>\n",
       "    </tr>\n",
       "    <tr>\n",
       "      <th>UltraSonicHaze</th>\n",
       "      <td>1</td>\n",
       "      <td>1</td>\n",
       "      <td>1</td>\n",
       "      <td>1</td>\n",
       "      <td>1</td>\n",
       "    </tr>\n",
       "    <tr>\n",
       "      <th>UltraWaffleMan</th>\n",
       "      <td>1</td>\n",
       "      <td>1</td>\n",
       "      <td>1</td>\n",
       "      <td>1</td>\n",
       "      <td>1</td>\n",
       "    </tr>\n",
       "    <tr>\n",
       "      <th>Ultradabber</th>\n",
       "      <td>1</td>\n",
       "      <td>1</td>\n",
       "      <td>1</td>\n",
       "      <td>1</td>\n",
       "      <td>1</td>\n",
       "    </tr>\n",
       "    <tr>\n",
       "      <th>Uly</th>\n",
       "      <td>1</td>\n",
       "      <td>1</td>\n",
       "      <td>1</td>\n",
       "      <td>1</td>\n",
       "      <td>1</td>\n",
       "    </tr>\n",
       "    <tr>\n",
       "      <th>Ulysses420</th>\n",
       "      <td>1</td>\n",
       "      <td>1</td>\n",
       "      <td>1</td>\n",
       "      <td>1</td>\n",
       "      <td>1</td>\n",
       "    </tr>\n",
       "    <tr>\n",
       "      <th>Uma717</th>\n",
       "      <td>1</td>\n",
       "      <td>1</td>\n",
       "      <td>1</td>\n",
       "      <td>1</td>\n",
       "      <td>1</td>\n",
       "    </tr>\n",
       "    <tr>\n",
       "      <th>Umby</th>\n",
       "      <td>1</td>\n",
       "      <td>1</td>\n",
       "      <td>1</td>\n",
       "      <td>1</td>\n",
       "      <td>1</td>\n",
       "    </tr>\n",
       "    <tr>\n",
       "      <th>Umfocus</th>\n",
       "      <td>1</td>\n",
       "      <td>1</td>\n",
       "      <td>1</td>\n",
       "      <td>1</td>\n",
       "      <td>1</td>\n",
       "    </tr>\n",
       "    <tr>\n",
       "      <th>Un.Safe.Dirty.Rock.Star</th>\n",
       "      <td>1</td>\n",
       "      <td>1</td>\n",
       "      <td>1</td>\n",
       "      <td>1</td>\n",
       "      <td>1</td>\n",
       "    </tr>\n",
       "    <tr>\n",
       "      <th>Unagi69</th>\n",
       "      <td>1</td>\n",
       "      <td>1</td>\n",
       "      <td>1</td>\n",
       "      <td>1</td>\n",
       "      <td>1</td>\n",
       "    </tr>\n",
       "    <tr>\n",
       "      <th>Uncjohnsband</th>\n",
       "      <td>1</td>\n",
       "      <td>1</td>\n",
       "      <td>1</td>\n",
       "      <td>1</td>\n",
       "      <td>1</td>\n",
       "    </tr>\n",
       "    <tr>\n",
       "      <th>UnclBlzr420</th>\n",
       "      <td>1</td>\n",
       "      <td>1</td>\n",
       "      <td>1</td>\n",
       "      <td>1</td>\n",
       "      <td>1</td>\n",
       "    </tr>\n",
       "    <tr>\n",
       "      <th>UncleArgile</th>\n",
       "      <td>1</td>\n",
       "      <td>1</td>\n",
       "      <td>1</td>\n",
       "      <td>1</td>\n",
       "      <td>1</td>\n",
       "    </tr>\n",
       "    <tr>\n",
       "      <th>UncleDave</th>\n",
       "      <td>1</td>\n",
       "      <td>1</td>\n",
       "      <td>1</td>\n",
       "      <td>1</td>\n",
       "      <td>1</td>\n",
       "    </tr>\n",
       "    <tr>\n",
       "      <th>UncleTubby</th>\n",
       "      <td>1</td>\n",
       "      <td>1</td>\n",
       "      <td>1</td>\n",
       "      <td>1</td>\n",
       "      <td>1</td>\n",
       "    </tr>\n",
       "    <tr>\n",
       "      <th>UndeadAnon</th>\n",
       "      <td>1</td>\n",
       "      <td>1</td>\n",
       "      <td>1</td>\n",
       "      <td>1</td>\n",
       "      <td>1</td>\n",
       "    </tr>\n",
       "    <tr>\n",
       "      <th>UndeadBobBarker</th>\n",
       "      <td>1</td>\n",
       "      <td>1</td>\n",
       "      <td>1</td>\n",
       "      <td>1</td>\n",
       "      <td>1</td>\n",
       "    </tr>\n",
       "    <tr>\n",
       "      <th>UndeadShithead</th>\n",
       "      <td>1</td>\n",
       "      <td>1</td>\n",
       "      <td>1</td>\n",
       "      <td>1</td>\n",
       "      <td>1</td>\n",
       "    </tr>\n",
       "    <tr>\n",
       "      <th>UndeadSnowman</th>\n",
       "      <td>1</td>\n",
       "      <td>1</td>\n",
       "      <td>1</td>\n",
       "      <td>1</td>\n",
       "      <td>1</td>\n",
       "    </tr>\n",
       "    <tr>\n",
       "      <th>UnderforeverX</th>\n",
       "      <td>1</td>\n",
       "      <td>1</td>\n",
       "      <td>1</td>\n",
       "      <td>1</td>\n",
       "      <td>1</td>\n",
       "    </tr>\n",
       "    <tr>\n",
       "      <th>zzzzzzjoe</th>\n",
       "      <td>1</td>\n",
       "      <td>1</td>\n",
       "      <td>1</td>\n",
       "      <td>1</td>\n",
       "      <td>1</td>\n",
       "    </tr>\n",
       "  </tbody>\n",
       "</table>\n",
       "<p>65773 rows × 5 columns</p>\n",
       "</div>"
      ],
      "text/plain": [
       "                         date  product  rating  review  time\n",
       "user                                                        \n",
       "Chill_Panda               345      345     345     345   345\n",
       "sweetbutter80             266      266     266     266   266\n",
       "KindGodess420             200      200     200     200   200\n",
       "emanuel80                 197      197     197     197   197\n",
       "gatorhunts420             180      180     180     180   180\n",
       "hi2                       161      161     161     161   161\n",
       "demis                     157      157     157     157   157\n",
       "nathanmontgomery          152      152     152     152   152\n",
       "eb                        151      151     151     151   151\n",
       "LegitLogic                138      138     138     138   138\n",
       "rizlo                     137      137     137     137   137\n",
       "vitaman                   135      135     135     135   135\n",
       "jjjallen                  134      134     134     134   134\n",
       "AkaTeddd                  128      128     128     128   128\n",
       "NSomniac                  127      127     127     127   127\n",
       "JadedTakesThisSerious     123      123     123     123   123\n",
       "crazycolton55             117      117     117     117   117\n",
       "LeroyBrown420             114      114     114     114   114\n",
       "BaronOfBud                107      107     107     107   107\n",
       "Samurai_JAC               106      106     106     106   106\n",
       "diazeldorado1             105      105     105     105   105\n",
       "cascadianmass             104      104     104     104   104\n",
       "petethekoala              104      104     104     104   104\n",
       "col4bin                   104      104     104     104   104\n",
       "orgncwhtmlk               102      102     102     102   102\n",
       "flipndip187               100      100     100     100   100\n",
       "Moss1310                   99       99      99      99    99\n",
       "weazal                     98       98      98      98    98\n",
       "VJvalvenus420              97       97      97      97    97\n",
       "Ryno602                    96       96      96      96    96\n",
       "...                       ...      ...     ...     ...   ...\n",
       "Unorthodox7                 1        1       1       1     1\n",
       "Unstopable007               1        1       1       1     1\n",
       "UpInSmoke425                1        1       1       1     1\n",
       "UpUpAndAway10               1        1       1       1     1\n",
       "UnfixedPython               1        1       1       1     1\n",
       "UnderpaidStoner             1        1       1       1     1\n",
       "Ultimatevirus               1        1       1       1     1\n",
       "Underoath94                 1        1       1       1     1\n",
       "UltraADC                    1        1       1       1     1\n",
       "UltraSonicHaze              1        1       1       1     1\n",
       "UltraWaffleMan              1        1       1       1     1\n",
       "Ultradabber                 1        1       1       1     1\n",
       "Uly                         1        1       1       1     1\n",
       "Ulysses420                  1        1       1       1     1\n",
       "Uma717                      1        1       1       1     1\n",
       "Umby                        1        1       1       1     1\n",
       "Umfocus                     1        1       1       1     1\n",
       "Un.Safe.Dirty.Rock.Star     1        1       1       1     1\n",
       "Unagi69                     1        1       1       1     1\n",
       "Uncjohnsband                1        1       1       1     1\n",
       "UnclBlzr420                 1        1       1       1     1\n",
       "UncleArgile                 1        1       1       1     1\n",
       "UncleDave                   1        1       1       1     1\n",
       "UncleTubby                  1        1       1       1     1\n",
       "UndeadAnon                  1        1       1       1     1\n",
       "UndeadBobBarker             1        1       1       1     1\n",
       "UndeadShithead              1        1       1       1     1\n",
       "UndeadSnowman               1        1       1       1     1\n",
       "UnderforeverX               1        1       1       1     1\n",
       "zzzzzzjoe                   1        1       1       1     1\n",
       "\n",
       "[65773 rows x 5 columns]"
      ]
     },
     "execution_count": 29,
     "metadata": {},
     "output_type": "execute_result"
    }
   ],
   "source": [
    "users.sort_values(by='rating', ascending=False)"
   ]
  },
  {
   "cell_type": "code",
   "execution_count": 30,
   "metadata": {
    "collapsed": true
   },
   "outputs": [],
   "source": [
    "most_ratings = users[users['rating'] > 10]"
   ]
  },
  {
   "cell_type": "code",
   "execution_count": 31,
   "metadata": {
    "collapsed": false
   },
   "outputs": [
    {
     "data": {
      "text/plain": [
       "(1776, 5)"
      ]
     },
     "execution_count": 31,
     "metadata": {},
     "output_type": "execute_result"
    }
   ],
   "source": [
    "most_ratings.shape"
   ]
  },
  {
   "cell_type": "code",
   "execution_count": 32,
   "metadata": {
    "collapsed": true
   },
   "outputs": [],
   "source": [
    "# users with fewer than 20 ratings\n",
    "fewer_ratings = users[users['rating'] < 20]"
   ]
  },
  {
   "cell_type": "code",
   "execution_count": 33,
   "metadata": {
    "collapsed": false
   },
   "outputs": [
    {
     "data": {
      "text/plain": [
       "65162"
      ]
     },
     "execution_count": 33,
     "metadata": {},
     "output_type": "execute_result"
    }
   ],
   "source": [
    "fewer_ratings.shape[0]"
   ]
  },
  {
   "cell_type": "code",
   "execution_count": 37,
   "metadata": {
    "collapsed": false
   },
   "outputs": [
    {
     "data": {
      "image/png": "[encoded data removed]",
      "text/plain": [
       "<matplotlib.figure.Figure at 0x7fb843a4dd50>"
      ]
     },
     "metadata": {},
     "output_type": "display_data"
    }
   ],
   "source": [
    "f = plt.figure(figsize=(12, 8))\n",
    "ax = plt.gca()\n",
    "f = fewer_ratings.rating.hist(ax=ax, bins=20)"
   ]
  },
  {
   "cell_type": "code",
   "execution_count": 38,
   "metadata": {
    "collapsed": false
   },
   "outputs": [
    {
     "data": {
      "text/plain": [
       "1.9847457106902797"
      ]
     },
     "execution_count": 38,
     "metadata": {},
     "output_type": "execute_result"
    }
   ],
   "source": [
    "fewer_ratings.rating.mean()"
   ]
  },
  {
   "cell_type": "code",
   "execution_count": 39,
   "metadata": {
    "collapsed": false
   },
   "outputs": [
    {
     "data": {
      "text/plain": [
       "1"
      ]
     },
     "execution_count": 39,
     "metadata": {},
     "output_type": "execute_result"
    }
   ],
   "source": [
    "fewer_ratings.rating.mode()[0]"
   ]
  },
  {
   "cell_type": "code",
   "execution_count": 40,
   "metadata": {
    "collapsed": false
   },
   "outputs": [
    {
     "data": {
      "text/plain": [
       "0"
      ]
     },
     "execution_count": 40,
     "metadata": {},
     "output_type": "execute_result"
    }
   ],
   "source": [
    "df[df['user'] == 'Anonymous'].shape[0]"
   ]
  },
  {
   "cell_type": "code",
   "execution_count": 41,
   "metadata": {
    "collapsed": false
   },
   "outputs": [
    {
     "data": {
      "text/plain": [
       "152510"
      ]
     },
     "execution_count": 41,
     "metadata": {},
     "output_type": "execute_result"
    }
   ],
   "source": [
    "df.shape[0]"
   ]
  },
  {
   "cell_type": "code",
   "execution_count": 60,
   "metadata": {
    "collapsed": true
   },
   "outputs": [],
   "source": [
    "# users with more than 1 rating\n",
    "more_ratings = users[(users['rating'] > 1)]# & (users['rating'] < 30)]"
   ]
  },
  {
   "cell_type": "code",
   "execution_count": 61,
   "metadata": {
    "collapsed": false
   },
   "outputs": [
    {
     "data": {
      "text/plain": [
       "22670"
      ]
     },
     "execution_count": 61,
     "metadata": {},
     "output_type": "execute_result"
    }
   ],
   "source": [
    "more_ratings.shape[0]"
   ]
  },
  {
   "cell_type": "code",
   "execution_count": 62,
   "metadata": {
    "collapsed": true
   },
   "outputs": [],
   "source": [
    "more_ratings = users[(users['rating'] > 1) & (users['rating'] < 30)]"
   ]
  },
  {
   "cell_type": "code",
   "execution_count": 63,
   "metadata": {
    "collapsed": false
   },
   "outputs": [
    {
     "data": {
      "text/plain": [
       "(22379, 5)"
      ]
     },
     "execution_count": 63,
     "metadata": {},
     "output_type": "execute_result"
    }
   ],
   "source": [
    "more_ratings.shape"
   ]
  },
  {
   "cell_type": "code",
   "execution_count": 65,
   "metadata": {
    "collapsed": false
   },
   "outputs": [
    {
     "data": {
      "image/png": "[encoded data removed]",
      "text/plain": [
       "<matplotlib.figure.Figure at 0x7fb838ef2810>"
      ]
     },
     "metadata": {},
     "output_type": "display_data"
    }
   ],
   "source": [
    "f = plt.figure(figsize=(12, 8))\n",
    "ax = plt.gca()\n",
    "f = more_ratings.rating.hist(ax=ax, bins=200)"
   ]
  },
  {
   "cell_type": "code",
   "execution_count": 48,
   "metadata": {
    "collapsed": false
   },
   "outputs": [
    {
     "data": {
      "text/plain": [
       "Index([u'date', u'product', u'rating', u'review', u'user', u'time'], dtype='object')"
      ]
     },
     "execution_count": 48,
     "metadata": {},
     "output_type": "execute_result"
    }
   ],
   "source": [
    "df.columns"
   ]
  },
  {
   "cell_type": "code",
   "execution_count": 49,
   "metadata": {
    "collapsed": false
   },
   "outputs": [],
   "source": [
    "products = df.groupby('product')"
   ]
  },
  {
   "cell_type": "code",
   "execution_count": 50,
   "metadata": {
    "collapsed": false
   },
   "outputs": [
    {
     "data": {
      "image/png": "[encoded data removed]",
      "text/plain": [
       "<matplotlib.figure.Figure at 0x7fb8418ff990>"
      ]
     },
     "metadata": {},
     "output_type": "display_data"
    }
   ],
   "source": [
    "f = products.count()['rating'].hist(bins=100)"
   ]
  },
  {
   "cell_type": "code",
   "execution_count": 51,
   "metadata": {
    "collapsed": false
   },
   "outputs": [
    {
     "data": {
      "text/plain": [
       "78.532440782698245"
      ]
     },
     "execution_count": 51,
     "metadata": {},
     "output_type": "execute_result"
    }
   ],
   "source": [
    "products.count()['rating'].mean()"
   ]
  },
  {
   "cell_type": "code",
   "execution_count": 52,
   "metadata": {
    "collapsed": false
   },
   "outputs": [
    {
     "data": {
      "text/plain": [
       "u'blue-dream'"
      ]
     },
     "execution_count": 52,
     "metadata": {},
     "output_type": "execute_result"
    }
   ],
   "source": [
    "products.count()['rating'].argmax()"
   ]
  },
  {
   "cell_type": "code",
   "execution_count": 53,
   "metadata": {
    "collapsed": true
   },
   "outputs": [],
   "source": [
    "prod_rev_cnt = products.count()"
   ]
  },
  {
   "cell_type": "code",
   "execution_count": 54,
   "metadata": {
    "collapsed": true
   },
   "outputs": [],
   "source": [
    "fewer_reviews = prod_rev_cnt[prod_rev_cnt.rating < 1000]"
   ]
  },
  {
   "cell_type": "code",
   "execution_count": 55,
   "metadata": {
    "collapsed": false
   },
   "outputs": [
    {
     "data": {
      "image/png": "[encoded data removed]",
      "text/plain": [
       "<matplotlib.figure.Figure at 0x7fb83823e6d0>"
      ]
     },
     "metadata": {},
     "output_type": "display_data"
    }
   ],
   "source": [
    "f = fewer_reviews.rating.hist(bins=1000)"
   ]
  },
  {
   "cell_type": "code",
   "execution_count": 56,
   "metadata": {
    "collapsed": false
   },
   "outputs": [
    {
     "data": {
      "text/plain": [
       "152510"
      ]
     },
     "execution_count": 56,
     "metadata": {},
     "output_type": "execute_result"
    }
   ],
   "source": [
    "df.shape[0]"
   ]
  },
  {
   "cell_type": "code",
   "execution_count": 57,
   "metadata": {
    "collapsed": false
   },
   "outputs": [],
   "source": [
    "more_reviews = prod_rev_cnt[(prod_rev_cnt.rating > 3)]"
   ]
  },
  {
   "cell_type": "code",
   "execution_count": 58,
   "metadata": {
    "collapsed": false
   },
   "outputs": [
    {
     "data": {
      "text/plain": [
       "(1641, 5)"
      ]
     },
     "execution_count": 58,
     "metadata": {},
     "output_type": "execute_result"
    }
   ],
   "source": [
    "more_reviews.shape"
   ]
  },
  {
   "cell_type": "code",
   "execution_count": 59,
   "metadata": {
    "collapsed": false
   },
   "outputs": [
    {
     "data": {
      "text/plain": [
       "(1942, 5)"
      ]
     },
     "execution_count": 59,
     "metadata": {},
     "output_type": "execute_result"
    }
   ],
   "source": [
    "prod_rev_cnt.shape"
   ]
  },
  {
   "cell_type": "markdown",
   "metadata": {},
   "source": [
    "# luckily just found out some of the strain names are messed up...encoded or something"
   ]
  },
  {
   "cell_type": "code",
   "execution_count": 109,
   "metadata": {
    "collapsed": false
   },
   "outputs": [
    {
     "ename": "TypeError",
     "evalue": "load_data() takes no arguments (1 given)",
     "output_type": "error",
     "traceback": [
      "\u001b[1;31m---------------------------------------------------------------------------\u001b[0m",
      "\u001b[1;31mTypeError\u001b[0m                                 Traceback (most recent call last)",
      "\u001b[1;32m<ipython-input-109-88b2086e0283>\u001b[0m in \u001b[0;36m<module>\u001b[1;34m()\u001b[0m\n\u001b[1;32m----> 1\u001b[1;33m \u001b[0mdf2\u001b[0m \u001b[1;33m=\u001b[0m \u001b[0meld\u001b[0m\u001b[1;33m.\u001b[0m\u001b[0mload_data\u001b[0m\u001b[1;33m(\u001b[0m\u001b[0mfix_names\u001b[0m\u001b[1;33m=\u001b[0m\u001b[0mFalse\u001b[0m\u001b[1;33m)\u001b[0m\u001b[1;33m\u001b[0m\u001b[0m\n\u001b[0m\u001b[0;32m      2\u001b[0m \u001b[0mprod_rev_cnt\u001b[0m \u001b[1;33m=\u001b[0m \u001b[0mdf2\u001b[0m\u001b[1;33m.\u001b[0m\u001b[0mgroupby\u001b[0m\u001b[1;33m(\u001b[0m\u001b[1;34m'product'\u001b[0m\u001b[1;33m)\u001b[0m\u001b[1;33m.\u001b[0m\u001b[0mcount\u001b[0m\u001b[1;33m(\u001b[0m\u001b[1;33m)\u001b[0m\u001b[1;33m\u001b[0m\u001b[0m\n",
      "\u001b[1;31mTypeError\u001b[0m: load_data() takes no arguments (1 given)"
     ]
    }
   ],
   "source": [
    "df2 = dp.load_data(fix_names=False)\n",
    "prod_rev_cnt = df2.groupby('product').count()"
   ]
  },
  {
   "cell_type": "code",
   "execution_count": 59,
   "metadata": {
    "collapsed": false
   },
   "outputs": [],
   "source": [
    "products = prod_rev_cnt.index"
   ]
  },
  {
   "cell_type": "code",
   "execution_count": 68,
   "metadata": {
    "collapsed": false
   },
   "outputs": [],
   "source": [
    "prod_by_len = sorted(products, key=lambda x: len(x), reverse=True)"
   ]
  },
  {
   "cell_type": "code",
   "execution_count": 71,
   "metadata": {
    "collapsed": false
   },
   "outputs": [
    {
     "data": {
      "text/plain": [
       "[u'edi-pure-savory-roasted-garlic-crackers',\n",
       " u'edi-pure-savory-roasted-tomato-crackers',\n",
       " u'liquid-gold-vape-pen-super-silver-haze',\n",
       " u'golden-xtrx-oil-vaporizer-cartridge-h',\n",
       " u'golden-xtrx-oil-vaporizer-cartridge-i',\n",
       " u'golden-xtrx-oil-vaporizer-cartridge-s',\n",
       " u'golden-xtrx-personal-vaporizer-hybrid',\n",
       " u'golden-xtrx-personal-vaporizer-sativa',\n",
       " u'0bf3f759-186e-4dad-89d0-e0fc7598ac53',\n",
       " u'29aca226-23ba-4726-a4ab-f3bf68f2a3c4',\n",
       " u'c42aa00a-595a-4e58-a7af-0f8ab998073a',\n",
       " u'liquid-gold-vape-pen-blackberry-kush',\n",
       " u'dixie-medicated-chocolate-truffles',\n",
       " u'dixie-medicated-crispy-rice-treats',\n",
       " u'liquid-gold-vape-pen-pink-lemonade',\n",
       " u'dixie-elixirs-sparkling-blueberry',\n",
       " u'liquid-gold-vape-pen-green-crack',\n",
       " u'liquid-gold-vape-pen-orange-kush',\n",
       " u'liquid-gold-vape-pen-purple-haze',\n",
       " u'liquid-gold-vape-pen-silver-haze',\n",
       " u'liquid-gold-vape-pen-white-widow',\n",
       " u'edipure-wild-strawberry-gummies',\n",
       " u'liquid-gold-vape-pen-red-diesel',\n",
       " u'dixie-medicated-fruit-lozenges',\n",
       " u'middlefork-x-pineapple-express',\n",
       " u'edi-pure-gourmet-fruit-slices',\n",
       " u'edi-pure-red-delicious-apples',\n",
       " u'crouching-tiger-hidden-alien',\n",
       " u'edi-pure-bubbly-cola-gummies',\n",
       " u'edi-pure-cherry-cola-bottles',\n",
       " u'edi-pure-grapefruit-gummies',\n",
       " u'edi-pure-mixed-nut-clusters',\n",
       " u'edi-pure-peach-banana-rings',\n",
       " u'golden-xtrx-co2-dabbables-i',\n",
       " u'golden-xtrx-co2-dabbables-s',\n",
       " u'pineapple-super-silver-haze',\n",
       " u'platinum-girl-scout-cookies',\n",
       " u'black-lime-special-reserve',\n",
       " u'chemdawg-4-x-alien-og-kush',\n",
       " u'edi-pure-raspberry-gummies',\n",
       " u'edi-pure-wild-cherry-drops',\n",
       " u'dixie-elixirs-mixed-berry',\n",
       " u'dixie-elixirs-pomegranate',\n",
       " u'edi-pure-dried-pineapples',\n",
       " u'edi-pure-sour-apple-belts',\n",
       " u'edi-pure-sour-apple-drops',\n",
       " u'edi-pure-sour-gummi-bears',\n",
       " u'edi-pure-strawberry-belts',\n",
       " u'edi-pure-watermelon-tarts',\n",
       " u'bhang-girl-scout-cookies',\n",
       " u'bhang-island-sweet-skunk',\n",
       " u'edi-pure-blueberry-belts',\n",
       " u'liquid-gold-cbd-vape-oil',\n",
       " u'luca-brasi-x-sour-diesel',\n",
       " u'northern-lights-5-x-haze',\n",
       " u'rocky-mountain-blueberry',\n",
       " u'strawberry-durban-diesel',\n",
       " u'bhang-granddaddy-purple',\n",
       " u'bhang-pineapple-express',\n",
       " u'bhang-strawberry-diesel',\n",
       " u'bhang-super-silver-haze',\n",
       " u'bhang-super-sour-diesel',\n",
       " u'black-cherry-cheesecake',\n",
       " u'dixie-elixirs-sweet-tea',\n",
       " u'dixie-scrips-a-m--focus',\n",
       " u'old-lyme-connecticut-og',\n",
       " u'arjans-strawberry-haze',\n",
       " u'atomic-northern-lights',\n",
       " u'bhang-strawberry-cough',\n",
       " u'bhang-super-lemon-haze',\n",
       " u'bhang-triple-berry-goo',\n",
       " u'blackberry-x-blueberry',\n",
       " u'dixie-elixirs-lemonade',\n",
       " u'east-coast-sour-diesel',\n",
       " u'ed-rosenthal-super-bud',\n",
       " u'edi-pure-orange-slices',\n",
       " u'edi-pure-rainbow-belts',\n",
       " u'edi-pure-sweet-n-sours',\n",
       " u'matanuska-thunder-fuck',\n",
       " u'pakistani-chitral-kush',\n",
       " u'pineapple-purple-skunk',\n",
       " u'sour-strawberry-diesel',\n",
       " u'bhang-blackberry-kush',\n",
       " u'bhang-northern-lights',\n",
       " u'bhang-perfecto-hybrid',\n",
       " u'bhang-perfecto-indica',\n",
       " u'blackberry-trainwreck',\n",
       " u'california-grapefruit',\n",
       " u'chocolate-kush-indica',\n",
       " u'dark-side-of-the-moon',\n",
       " u'dixie-scrips-pm-sleep',\n",
       " u'edi-pure-cherry-bombs',\n",
       " u'godfather-purple-kush',\n",
       " u'hawaiian-thunder-fuck',\n",
       " u'north-american-sativa',\n",
       " u'strawberry-cheesecake',\n",
       " u'strawberry-mango-haze',\n",
       " u'sweet-deep-grapefruit',\n",
       " u'alaska-thunder-grape',\n",
       " u'alaskan-thunder-fuck',\n",
       " u'bhang-darth-vader-og',\n",
       " u'bhang-pineapple-kush',\n",
       " u'blackberry-hashplant',\n",
       " u'blackberry-lime-haze',\n",
       " u'blueberry-cheesecake',\n",
       " u'blueberry-lambsbread',\n",
       " u'chemdawg-sour-diesel',\n",
       " u'cherry-durban-poison',\n",
       " u'colorado-clementines',\n",
       " u'double-tangie-banana',\n",
       " u'edi-pure-lemon-drops',\n",
       " u'electric-black-mamba',\n",
       " u'emperor-cookie-dough',\n",
       " u'flowers-for-algernon',\n",
       " u'fruity-chronic-juice',\n",
       " u'hawaiian-purple-kush',\n",
       " u'maui-pineapple-chunk',\n",
       " u'oteils-egyptian-kush',\n",
       " u'pineapple-trainwreck',\n",
       " u'platinum-purple-kush',\n",
       " u'proper-bho-shatter-h',\n",
       " u'proper-bho-shatter-i',\n",
       " u'proper-bho-shatter-s',\n",
       " u'purple-jolly-rancher',\n",
       " u'purple-panty-dropper',\n",
       " u'rockstar-master-kush',\n",
       " u'stephen-hawking-kush',\n",
       " u'strawberry-milkshake',\n",
       " u'sweet-and-sour-widow',\n",
       " u'wonka-s-bubbilicious',\n",
       " u'alice-in-wonderland',\n",
       " u'alien-hallucination',\n",
       " u'arjans-ultra-haze-1',\n",
       " u'bhang-durban-poison',\n",
       " u'bhang-lavender-kush',\n",
       " u'bhang-purple-diesel',\n",
       " u'blueberry-silvertip',\n",
       " u'confidential-cheese',\n",
       " u'critical-sensi-star',\n",
       " u'diamond-valley-kush',\n",
       " u'dixie-elixirs-peach',\n",
       " u'edi-pure-peach-tart',\n",
       " u'green-crack-extreme',\n",
       " u'orange-hill-special',\n",
       " u'pearl-scout-cookies',\n",
       " u'platinum-bubba-kush',\n",
       " u'purple-cotton-candy',\n",
       " u'purple-martian-kush',\n",
       " u'purple-monkey-balls',\n",
       " u'purple-people-eater',\n",
       " u'red-headed-stranger',\n",
       " u'rocky-mountain-high',\n",
       " u'russian-rocket-fuel',\n",
       " u'sour-banana-sherbet',\n",
       " u'south-indian-indica',\n",
       " u'strawberry-lemonade',\n",
       " u'the-third-dimension',\n",
       " u'ultimate-trainwreck',\n",
       " u'white-fire-alien-og',\n",
       " u'bhang-black-domina',\n",
       " u'bhang-lemon-diesel',\n",
       " u'bhang-purple-erkle',\n",
       " u'bhang-skywalker-og',\n",
       " u'bhang-white-diesel',\n",
       " u'birthday-cake-kush',\n",
       " u'blackberry-chem-og',\n",
       " u'blue-mountain-fire',\n",
       " u'blueberry-headband',\n",
       " u'blueberry-pancakes',\n",
       " u'caramel-candy-kush',\n",
       " u'confidential-wreck',\n",
       " u'cotton-purple-chem',\n",
       " u'critical-kali-mist',\n",
       " u'dixie-colorado-bar',\n",
       " u'dj-short-blueberry',\n",
       " u'double-purple-doja',\n",
       " u'dutch-thunder-fuck',\n",
       " u'fucking-incredible',\n",
       " u'ghost-og-moonshine',\n",
       " u'island-sweet-skunk',\n",
       " u'kaptns-grand-dream',\n",
       " u'martian-mean-green',\n",
       " u'northern-lights--5',\n",
       " u'peppermint-cookies',\n",
       " u'petrolia-headstash',\n",
       " u'pineapple-dog-shit',\n",
       " u'purple-sour-diesel',\n",
       " u'romulan-grapefruit',\n",
       " u'silverback-gorilla',\n",
       " u'spliffs-strawberry',\n",
       " u'strawberry-amnesia',\n",
       " u'summertime-squeeze',\n",
       " u'afgahni-bullrider',\n",
       " u'afternoon-delight',\n",
       " u'appalachian-power',\n",
       " u'bhang-casey-jones',\n",
       " u'bhang-dutch-treat',\n",
       " u'bhang-juicy-fruit',\n",
       " u'bhang-lambs-bread',\n",
       " u'bhang-lemon-skunk',\n",
       " u'bhang-master-kush',\n",
       " u'bhang-sour-diesel',\n",
       " u'bhang-super-skunk',\n",
       " u'bhang-white-widow',\n",
       " u'black-cherry-soda',\n",
       " u'blackberry-bubble',\n",
       " u'blackberry-diesel',\n",
       " u'blueberry-essence',\n",
       " u'blueberry-muffins',\n",
       " u'blueberry-yum-yum',\n",
       " u'brian-berry-cough',\n",
       " u'california-orange',\n",
       " u'cbd-critical-cure',\n",
       " u'chocolate-thunder',\n",
       " u'cinderellas-dream',\n",
       " u'cookies-and-cream',\n",
       " u'cookies-and-dream',\n",
       " u'cotton-candy-kush',\n",
       " u'crunch-berry-kush',\n",
       " u'dixie-med-a-mints',\n",
       " u'electric-kool-aid',\n",
       " u'four-star-general',\n",
       " u'girl-scout-cookie',\n",
       " u'grand-doggy-purps',\n",
       " u'granddaddy-purple',\n",
       " u'grape-valley-kush',\n",
       " u'grapefruit-diesel',\n",
       " u'green-love-potion',\n",
       " u'heavy-duty-fruity',\n",
       " u'maple-leaf-indica',\n",
       " u'maui-mango-diesel',\n",
       " u'michael-phelps-og',\n",
       " u'montana-silvertip',\n",
       " u'mother-of-berries',\n",
       " u'orange-creamsicle',\n",
       " u'oregon-pinot-noir',\n",
       " u'peaches-and-cream',\n",
       " u'pineapple-express',\n",
       " u'pre-98-bubba-kush',\n",
       " u'project-blue-book',\n",
       " u'purple-hindu-kush',\n",
       " u'purple-trainwreck',\n",
       " u'sonic-screwdriver',\n",
       " u'strawberry-banana',\n",
       " u'strawberry-diesel',\n",
       " u'strawberry-fields',\n",
       " u'strawberry-satori',\n",
       " u'sunshine-daydream',\n",
       " u'super-green-crack',\n",
       " u'super-silver-haze',\n",
       " u'super-sour-diesel',\n",
       " u'sweet-black-angel',\n",
       " u'tommys-home-grown',\n",
       " u'white-walker-kush',\n",
       " u'afghan-sour-kush',\n",
       " u'alien-rock-candy',\n",
       " u'alien-sour-apple',\n",
       " u'alien-technology',\n",
       " u'az-super-sour-og',\n",
       " u'bhang-bubba-kush',\n",
       " u'bhang-bubble-gum',\n",
       " u'bhang-jack-frost',\n",
       " u'bhang-jack-herer',\n",
       " u'bhang-kings-kush',\n",
       " u'bhang-lemon-haze',\n",
       " u'bhang-panama-red',\n",
       " u'bhang-sensi-star',\n",
       " u'bhang-trainwreck',\n",
       " u'big-budda-cheese',\n",
       " u'big-skunk-korean',\n",
       " u'big-sur-holy-bud',\n",
       " u'black-label-kush',\n",
       " u'blackberry-cream',\n",
       " u'blackberry-rhino',\n",
       " u'blueberry-diesel',\n",
       " u'chem-valley-kush',\n",
       " u'cherries-jubilee',\n",
       " u'chocolate-diesel',\n",
       " u'chocolate-fondue',\n",
       " u'cosmic-collision',\n",
       " u'critters-cookies',\n",
       " u'double-barrel-og',\n",
       " u'dutch-treat-haze',\n",
       " u'electric-lemon-g',\n",
       " u'ghost-train-haze',\n",
       " u'gods-green-crack',\n",
       " u'golden-pineapple',\n",
       " u'grandpa-larry-og',\n",
       " u'hawaiian-cookies',\n",
       " u'hawaiian-delight',\n",
       " u'hawaiian-sunrise',\n",
       " u'hibiscus-sunrise',\n",
       " u'industrial-plant',\n",
       " u'island-maui-haze',\n",
       " u'jack-skellington',\n",
       " u'le-silver-royale',\n",
       " u'lemon-alien-dawg',\n",
       " u'lime-green-skunk',\n",
       " u'marionberry-kush',\n",
       " u'maui-bubble-gift',\n",
       " u'moose-and-lobsta',\n",
       " u'oregon-pineapple',\n",
       " u'pineapple-diesel',\n",
       " u'pure-power-plant',\n",
       " u'purple-champagne',\n",
       " u'purple-hashplant',\n",
       " u'purple-paralysis',\n",
       " u'reclining-buddha',\n",
       " u'red-cherry-berry',\n",
       " u'russian-assassin',\n",
       " u'secret-garden-og',\n",
       " u'silverfalls-kush',\n",
       " u'soul-assassin-og',\n",
       " u'south-central-la',\n",
       " u'star-master-kush',\n",
       " u'strawberry-cough',\n",
       " u'strawberry-dream',\n",
       " u'sugar-black-rose',\n",
       " u'super-blue-dream',\n",
       " u'super-lemon-haze',\n",
       " u'super-sour-skunk',\n",
       " u'super-sour-widow',\n",
       " u'thelonious-skunk',\n",
       " u'urkle-train-haze',\n",
       " u'white-kryptonite',\n",
       " u'white-strawberry',\n",
       " u'afghan-hawaiian',\n",
       " u'alien-abduction',\n",
       " u'aurora-borealis',\n",
       " u'bhang-chocolope',\n",
       " u'bhang-diablo-og',\n",
       " u'bhang-harlequin',\n",
       " u'bhang-maui-waui',\n",
       " u'black-cherry-og',\n",
       " u'blackberry-haze',\n",
       " u'blackberry-kush',\n",
       " u'blissful-wizard',\n",
       " u'blue-moon-rocks',\n",
       " u'blue-persuasion',\n",
       " u'blueberry-blast',\n",
       " u'blueberry-dream',\n",
       " u'blueberry-skunk',\n",
       " u'blueberry-waltz',\n",
       " u'brainstorm-haze',\n",
       " u'bubba-tom-hayes',\n",
       " u'cadillac-purple',\n",
       " u'california-sour',\n",
       " u'cherry-pie-kush',\n",
       " u'chiquita-banana',\n",
       " u'chocolate-chunk',\n",
       " u'chronic-thunder',\n",
       " u'clementine-kush',\n",
       " u'cold-creek-kush',\n",
       " u'conspiracy-kush',\n",
       " u'crazy-miss-hyde',\n",
       " u'critical-cheese',\n",
       " u'dixie-dew-drops',\n",
       " u'elderberry-kush',\n",
       " u'fire-alien-kush',\n",
       " u'flaming-cookies',\n",
       " u'flowerbomb-kush',\n",
       " u'fortune-cookies',\n",
       " u'g-stik-amarillo',\n",
       " u'grapefruit-haze',\n",
       " u'grapefruit-kush',\n",
       " u'green-door-kush',\n",
       " u'hawaiian-diesel',\n",
       " u'hawaiian-sativa',\n",
       " u'heisenberg-kush',\n",
       " u'hippie-crippler',\n",
       " u'holy-grail-kush',\n",
       " u'iced-grapefruit',\n",
       " u'incredible-bulk',\n",
       " u'incredible-hulk',\n",
       " u'jack-the-ripper',\n",
       " u'kelly-hill-gold',\n",
       " u'la-confidential',\n",
       " u'larry-bird-kush',\n",
       " u'laughing-buddha',\n",
       " u'lemon-marmalade',\n",
       " u'lemon-walker-og',\n",
       " u'longbottom-leaf',\n",
       " u'mai-tai-cookies',\n",
       " u'manitoba-poison',\n",
       " u'mendocino-purps',\n",
       " u'monster-cookies',\n",
       " u'moonwalker-kush',\n",
       " u'night-terror-og',\n",
       " u'northern-lights',\n",
       " u'phantom-cookies',\n",
       " u'pineapple-chunk',\n",
       " u'pineapple-punch',\n",
       " u'pineapple-purps',\n",
       " u'pineapple-skunk',\n",
       " u'presidential-og',\n",
       " u'professor-chaos',\n",
       " u'purple-alien-og',\n",
       " u'purple-chemdawg',\n",
       " u'purple-dog-shit',\n",
       " u'purple-elephant',\n",
       " u'purple-headband',\n",
       " u'purple-princess',\n",
       " u'rare-dankness-1',\n",
       " u'raspberry-cough',\n",
       " u'rebel-god-smoke',\n",
       " u'romping-goddess',\n",
       " u'salmon-river-og',\n",
       " u'sinmint-cookies',\n",
       " u'skywalker-alien',\n",
       " u'southern-lights',\n",
       " u'strawberry-blue',\n",
       " u'strawberry-kush',\n",
       " u'sunset-sherbert',\n",
       " u'sweet-lafayette',\n",
       " u'tangerine-dream',\n",
       " u'tangerine-power',\n",
       " u'think-different',\n",
       " u'turbo-mind-warp',\n",
       " u'very-berry-haze',\n",
       " u'white-lightning',\n",
       " u'white-nightmare',\n",
       " u'9-pound-hammer',\n",
       " u'98-white-widow',\n",
       " u'afghan-big-bud',\n",
       " u'alien-stardawg',\n",
       " u'american-dream',\n",
       " u'animal-cookies',\n",
       " u'bc-sweet-tooth',\n",
       " u'bhang-chemdawg',\n",
       " u'bhang-headband',\n",
       " u'bhang-mango-og',\n",
       " u'bhang-tahoe-og',\n",
       " u'blackberry-pie',\n",
       " u'blue-champange',\n",
       " u'blue-moonshine',\n",
       " u'blue-nightmare',\n",
       " u'blue-satellite',\n",
       " u'blueberry-haze',\n",
       " u'blueberry-jack',\n",
       " u'blueberry-kush',\n",
       " u'brooklyn-mango',\n",
       " u'bruce-banner-3',\n",
       " u'bubblegum-kush',\n",
       " u'buddhas-sister',\n",
       " u'cambodian-haze',\n",
       " u'cannalope-haze',\n",
       " u'cannalope-kush',\n",
       " u'cbd-mango-haze',\n",
       " u'cello-sweet-og',\n",
       " u'champagne-kush',\n",
       " u'charlottes-web',\n",
       " u'cherry-cookies',\n",
       " u'cherry-limeade',\n",
       " u'cherry-sherbet',\n",
       " u'chocolate-kush',\n",
       " u'chocolate-thai',\n",
       " u'colombian-gold',\n",
       " u'colorado-bubba',\n",
       " u'cookie-monster',\n",
       " u'critical-bilbo',\n",
       " u'critical-skunk',\n",
       " u'critical-widow',\n",
       " u'darth-vader-og',\n",
       " u'dragons-breath',\n",
       " u'dreamers-glass',\n",
       " u'durban-cookies',\n",
       " u'dutch-hawaiian',\n",
       " u'earthshaker-og',\n",
       " u'fruity-pebbles',\n",
       " u'gorilla-glue-1',\n",
       " u'gorilla-glue-4',\n",
       " u'gorilla-glue-5',\n",
       " u'grilled-cheese',\n",
       " u'hashplant-haze',\n",
       " u'hawaiian-dream',\n",
       " u'hawaiian-punch',\n",
       " u'hawaiian-skunk',\n",
       " u'hell-raiser-og',\n",
       " u'hells-angel-og',\n",
       " u'himalayan-gold',\n",
       " u'hippie-chicken',\n",
       " u'humboldt-dream',\n",
       " u'jamaican-dream',\n",
       " u'jamaican-pearl',\n",
       " u'js-famous-kush',\n",
       " u'kauai-electric',\n",
       " u'killing-fields',\n",
       " u'kurple-fantasy',\n",
       " u'lavender-jones',\n",
       " u'margaret-cho-g',\n",
       " u'marleys-collie',\n",
       " u'mazar-i-sharif',\n",
       " u'medicine-woman',\n",
       " u'mexican-sativa',\n",
       " u'moonshine-haze',\n",
       " u'mothers-finest',\n",
       " u'mothers-helper',\n",
       " u'north-american',\n",
       " u'northern-skunk',\n",
       " u'northern-wreck',\n",
       " u'og-diesel-kush',\n",
       " u'orange-cookies',\n",
       " u'organic-diesel',\n",
       " u'pineapple-haze',\n",
       " u'pineapple-jack',\n",
       " u'pineapple-kush',\n",
       " u'pineapple-thai',\n",
       " u'pink-champagne',\n",
       " u'platinum-wreck',\n",
       " u'purple-afghani',\n",
       " u'purple-cheddar',\n",
       " u'purple-gorilla',\n",
       " u'purple-mr-nice',\n",
       " u'purple-og-kush',\n",
       " u'purple-pantera',\n",
       " u'purple-passion',\n",
       " u'raspberry-kush',\n",
       " u'rollex-og-kush',\n",
       " u'root-beer-kush',\n",
       " u'royal-chemdawg',\n",
       " u'royal-highness',\n",
       " u'sapphire-scout',\n",
       " u'silverhawks-og',\n",
       " u'sour-chocolate',\n",
       " u'south-american',\n",
       " u'special-kush-1',\n",
       " u'stardawg-guava',\n",
       " u'strawberry-ice',\n",
       " u'super-cat-piss',\n",
       " u'super-lemon-og',\n",
       " u'super-snow-dog',\n",
       " u'tahoe-hydro-og',\n",
       " u'taliban-poison',\n",
       " u'tangerine-haze',\n",
       " u'tangerine-kush',\n",
       " u'throwback-kush',\n",
       " u'twisted-citrus',\n",
       " u'ultraviolet-og',\n",
       " u'verde-electric',\n",
       " u'violet-delight',\n",
       " u'whitaker-blues',\n",
       " u'white-elephant',\n",
       " u'white-lavender',\n",
       " u'white-siberian',\n",
       " u'whitewalker-og',\n",
       " u'wonderwoman-og',\n",
       " u'acapulco-gold',\n",
       " u'ace-killer-og',\n",
       " u'ace-of-spades',\n",
       " u'afghan-diesel',\n",
       " u'albert-walker',\n",
       " u'alien-inferno',\n",
       " u'alien-reunion',\n",
       " u'alpha-express',\n",
       " u'american-kush',\n",
       " u'asian-fantasy',\n",
       " u'atomical-haze',\n",
       " u'aurora-indica',\n",
       " u'banana-diesel',\n",
       " u'beast-mode-20',\n",
       " u'beast-mode-og',\n",
       " u'bhang-og-kush',\n",
       " u'bhang-romulan',\n",
       " u'bhang-skunk-1',\n",
       " u'bhang-sour-og',\n",
       " u'bhang-yoda-og',\n",
       " u'biker-leblanc',\n",
       " u'black-diamond',\n",
       " u'black-russian',\n",
       " u'blue-dynamite',\n",
       " u'blue-hawaiian',\n",
       " u'blueberry-pie',\n",
       " u'brains-damage',\n",
       " u'bubba-x-skunk',\n",
       " u'bubble-cheese',\n",
       " u'cabbage-patch',\n",
       " u'cactus-cooler',\n",
       " u'caramelicious',\n",
       " u'cascadia-kush',\n",
       " u'cataract-kush',\n",
       " u'charlie-sheen',\n",
       " u'chem-jong-ill',\n",
       " u'cherry-diesel',\n",
       " u'chuckys-bride',\n",
       " u'cinderella-99',\n",
       " u'colorado-chem',\n",
       " u'corleone-kush',\n",
       " u'cream-caramel',\n",
       " u'critical-haze',\n",
       " u'critical-jack',\n",
       " u'critical-kush',\n",
       " u'critical-mass',\n",
       " u'critical-plus',\n",
       " u'crystal-gayle',\n",
       " u'dank-schrader',\n",
       " u'dawgfather-og',\n",
       " u'diamond-socks',\n",
       " u'double-diesel',\n",
       " u'durban-cheese',\n",
       " u'durban-poison',\n",
       " u'exodus-cheese',\n",
       " u'faygo-red-pop',\n",
       " u'firewalker-og',\n",
       " u'frosted-freak',\n",
       " u'fruitylicious',\n",
       " u'g-stik-orange',\n",
       " u'g-stik-rosado',\n",
       " u'galactic-jack',\n",
       " u'gatekeeper-og',\n",
       " u'glass-slipper',\n",
       " u'golden-ticket',\n",
       " u'good-medicine',\n",
       " u'grape-cookies',\n",
       " u'grape-inferno',\n",
       " u'green-avenger',\n",
       " u'green-goddess',\n",
       " u'green-lantern',\n",
       " u'green-monster',\n",
       " u'haleighs-hope',\n",
       " u'hawaiian-fire',\n",
       " u'hawaiian-haze',\n",
       " u'hawaiian-snow',\n",
       " u'hollands-hope',\n",
       " u'honey-bananas',\n",
       " u'honey-boo-boo',\n",
       " u'illuminati-og',\n",
       " u'iron-triangle',\n",
       " u'jacks-cleaner',\n",
       " u'jamaican-lion',\n",
       " u'johnnys-tonic',\n",
       " u'jolly-rancher',\n",
       " u'julius-caesar',\n",
       " u'key-lime-haze',\n",
       " u'kid-n-cookies',\n",
       " u'kosher-tangie',\n",
       " u'ladyburn-1974',\n",
       " u'lavender-haze',\n",
       " u'lemon-og-haze',\n",
       " u'lethal-purple',\n",
       " u'liquid-butter',\n",
       " u'little-dragon',\n",
       " u'lost-coast-og',\n",
       " u'love-potion-9',\n",
       " u'mad-scientist',\n",
       " u'martian-candy',\n",
       " u'molokai-frost',\n",
       " u'molokai-purpz',\n",
       " u'mother-tongue',\n",
       " u'mt-hood-magic',\n",
       " u'nebula-ii-cbd',\n",
       " u'nevilles-haze',\n",
       " u'nl5-haze-mist',\n",
       " u'northernberry',\n",
       " u'og-strawberry',\n",
       " u'old-school-og',\n",
       " u'orange-diesel',\n",
       " u'orange-velvet',\n",
       " u'oregon-diesel',\n",
       " u'pine-tar-kush',\n",
       " u'pink-lemonade',\n",
       " u'platinum-kush',\n",
       " u'predator-pink',\n",
       " u'purple-aurora',\n",
       " u'purple-buddha',\n",
       " u'purple-cheese',\n",
       " u'purple-diesel',\n",
       " u'purple-dragon',\n",
       " u'purple-tangie',\n",
       " u'purple-voodoo',\n",
       " u'rare-darkness',\n",
       " u'red-congolese',\n",
       " u'rob-ford-kush',\n",
       " u'rockstar-kush',\n",
       " u'sapphire-star',\n",
       " u'sasquatch-sap',\n",
       " u'savants-grail',\n",
       " u'seattle-cough',\n",
       " u'secret-recipe',\n",
       " u'sharks-breath',\n",
       " u'silver-bubble',\n",
       " u'silver-surfer',\n",
       " u'sin-city-kush',\n",
       " u'sin-valley-og',\n",
       " u'skunky-diesel',\n",
       " u'snoop-dogg-og',\n",
       " u'snoop-s-dream',\n",
       " u'sour-headband',\n",
       " u'sour-lemon-og',\n",
       " u'stevie-wonder',\n",
       " u'strawberry-og',\n",
       " u'super-chronic',\n",
       " u'super-sour-og',\n",
       " u'sweet-pebbles',\n",
       " u'tangerine-man',\n",
       " u'triangle-kush',\n",
       " u'triple-diesel',\n",
       " u'tropical-tang',\n",
       " u'violator-kush',\n",
       " u'white-buffalo',\n",
       " u'white-cookies',\n",
       " u'white-empress',\n",
       " u'white-fire-43',\n",
       " u'white-fire-og',\n",
       " u'white-gorilla',\n",
       " u'white-romulan',\n",
       " u'white-russian',\n",
       " u'white-slipper',\n",
       " u'willie-nelson',\n",
       " u'willys-wonder',\n",
       " u'707-headband',\n",
       " u'afghan-skunk',\n",
       " u'afghan-widow',\n",
       " u'agent-orange',\n",
       " u'agent-tangie',\n",
       " u'alien-asshat',\n",
       " u'allen-wrench',\n",
       " u'aloha-limone',\n",
       " u'amnesia-haze',\n",
       " u'ancient-kush',\n",
       " u'anonymous-og',\n",
       " u'arabian-gold',\n",
       " u'banana-candy',\n",
       " u'bhang-007-og',\n",
       " u'bhang-cheese',\n",
       " u'black-dhalia',\n",
       " u'black-diesel',\n",
       " u'black-domina',\n",
       " u'black-velvet',\n",
       " u'blue-afghani',\n",
       " u'blue-bastard',\n",
       " u'blue-cookies',\n",
       " u'blue-diamond',\n",
       " u'blue-kripple',\n",
       " u'blue-monster',\n",
       " u'blueberry-ak',\n",
       " u'blueberry-og',\n",
       " u'broke-diesel',\n",
       " u'bruce-banner',\n",
       " u'buddha-tahoe',\n",
       " u'buddhas-hand',\n",
       " u'buffalo-bill',\n",
       " u'burmese-kush',\n",
       " u'butterscotch',\n",
       " u'cannadential',\n",
       " u'cerebro-haze',\n",
       " u'cheese-candy',\n",
       " u'cheese-quake',\n",
       " u'cheeseburger',\n",
       " u'chemmy-jones',\n",
       " u'chems-sister',\n",
       " u'cherry-ak-47',\n",
       " u'cherry-skunk',\n",
       " u'china-yunnan',\n",
       " u'chr-super-og',\n",
       " u'citrus-punch',\n",
       " u'cluster-bomb',\n",
       " u'connie-chung',\n",
       " u'cookie-dough',\n",
       " u'cookie-wreck',\n",
       " u'cookies-kush',\n",
       " u'cracker-jack',\n",
       " u'critical-hog',\n",
       " u'crown-royale',\n",
       " u'crystal-coma',\n",
       " u'crystalberry',\n",
       " u'deathstar-og',\n",
       " u'denver-maple',\n",
       " u'dogwalker-og',\n",
       " u'double-dream',\n",
       " u'double-dutch',\n",
       " u'dr-grinspoon',\n",
       " u'dream-beaver',\n",
       " u'dream-police',\n",
       " u'durban-berry',\n",
       " u'dutch-dragon',\n",
       " u'emerald-jack',\n",
       " u'eugene-cream',\n",
       " u'frankenstein',\n",
       " u'frisian-duck',\n",
       " u'fruit-spirit',\n",
       " u'funky-monkey',\n",
       " u'g-stik-verde',\n",
       " u'game-changer',\n",
       " u'ganesh-berry',\n",
       " u'godfather-og',\n",
       " u'golden-panda',\n",
       " u'grand-hustle',\n",
       " u'green-dragon',\n",
       " u'green-goblin',\n",
       " u'green-hornet',\n",
       " u'green-poison',\n",
       " u'green-python',\n",
       " u'green-ribbon',\n",
       " u'harry-potter',\n",
       " u'heaven-scent',\n",
       " u'higher-power',\n",
       " u'hollywood-og',\n",
       " u'hustler-kush',\n",
       " u'in-the-pines',\n",
       " u'jimi-hendrix',\n",
       " u'jungle-juice',\n",
       " u'kalashnikova',\n",
       " u'kerala-krush',\n",
       " u'key-lime-pie',\n",
       " u'khalifa-kush',\n",
       " u'killer-grape',\n",
       " u'killer-queen',\n",
       " u'krishna-kush',\n",
       " u'kush-cleaner',\n",
       " u'lady-liberty',\n",
       " u'lake-of-fire',\n",
       " u'lamb-s-bread',\n",
       " u'leagle-eagle',\n",
       " u'legalized-og',\n",
       " u'lemon-bubble',\n",
       " u'lemon-diesel',\n",
       " u'lemon-sativa',\n",
       " u'liberty-haze',\n",
       " u'light-of-jah',\n",
       " u'little-devil',\n",
       " u'logic-diesel',\n",
       " u'lucky-charms',\n",
       " u'magic-jordan',\n",
       " u'master-bubba',\n",
       " u'master-skunk',\n",
       " u'medicine-man',\n",
       " u'mega-jackpot',\n",
       " u'mendo-breath',\n",
       " u'morning-star',\n",
       " u'mothers-milk',\n",
       " u'nepalese-jam',\n",
       " u'neptune-kush',\n",
       " u'nevils-wreck',\n",
       " u'nightfire-og',\n",
       " u'north-indian',\n",
       " u'nurse-jackie',\n",
       " u'ocas-cloud-9',\n",
       " u'og-eddy-lepp',\n",
       " u'opal-og-kush',\n",
       " u'orange-crush',\n",
       " u'orange-dream',\n",
       " u'orange-juice',\n",
       " u'orange-skunk',\n",
       " u'orange-turbo',\n",
       " u'panama-punch',\n",
       " u'pandoras-box',\n",
       " u'pineapple-og',\n",
       " u'pink-cookies',\n",
       " u'pink-panther',\n",
       " u'poochie-love',\n",
       " u'popcorn-kush',\n",
       " u'purple-ak-47',\n",
       " u'purple-arrow',\n",
       " u'purple-berry',\n",
       " u'purple-bubba',\n",
       " u'purple-candy',\n",
       " u'purple-crack',\n",
       " u'purple-cream',\n",
       " u'purple-dream',\n",
       " u'purple-nepal',\n",
       " u'purple-power',\n",
       " u'purple-rhino',\n",
       " u'purple-skunk',\n",
       " u'purple-tonic',\n",
       " u'purple-urkle',\n",
       " u'purple-widow',\n",
       " u'purple-wreck',\n",
       " u'quantum-kush',\n",
       " u'quin-n-tonic',\n",
       " u'redwood-kush',\n",
       " u'ripped-bubba',\n",
       " u'satellite-og',\n",
       " u'scooby-snack',\n",
       " u'seattle-blue',\n",
       " u'shark-attack',\n",
       " u'shiatsu-kush',\n",
       " u'shishkaberry',\n",
       " u'silver-pearl',\n",
       " u'silver-train',\n",
       " u'skywalker-og',\n",
       " u'snow-leopard',\n",
       " u'snow-monster',\n",
       " u'sour-amnesia',\n",
       " u'sour-cookies',\n",
       " u'sour-pebbles',\n",
       " u'sour-tsunami',\n",
       " u'south-indian',\n",
       " u'space-needle',\n",
       " u'spirit-of-76',\n",
       " u'starry-night',\n",
       " u'sugar-cookie',\n",
       " u'super-cheese',\n",
       " u'supernatural',\n",
       " u'sweet-cheese',\n",
       " u'sweet-diesel',\n",
       " u'sweet-dreams',\n",
       " u'tangelo-kush',\n",
       " u'thaidal-wave',\n",
       " u'thors-hammer',\n",
       " u'training-day',\n",
       " u'travel-joint',\n",
       " u'tree-of-life',\n",
       " u'tutti-frutti',\n",
       " u'valley-ghash',\n",
       " u'vanilla-kush',\n",
       " u'waipi-o-hapa',\n",
       " u'walter-white',\n",
       " u'wedding-cake',\n",
       " u'white-cheese',\n",
       " u'white-diesel',\n",
       " u'white-dragon',\n",
       " u'white-durban',\n",
       " u'white-knight',\n",
       " u'white-walrus',\n",
       " u'white-zombie',\n",
       " u'wonder-woman',\n",
       " u'5th-element',\n",
       " u'8-ball-kush',\n",
       " u'afghan-haze',\n",
       " u'afghan-kush',\n",
       " u'afghani-cbd',\n",
       " u'alaskan-ice',\n",
       " u'alien-bubba',\n",
       " u'alpine-blue',\n",
       " u'alpine-star',\n",
       " u'atomic-goat',\n",
       " u'bakerstreet',\n",
       " u'banana-kush',\n",
       " u'banana-peel',\n",
       " u'barbara-bud',\n",
       " u'bc-roadkill',\n",
       " u'bettie-page',\n",
       " u'bhang-afgoo',\n",
       " u'biddy-early',\n",
       " u'black-betty',\n",
       " u'black-bubba',\n",
       " u'black-mamba',\n",
       " u'black-widow',\n",
       " u'bloos-kloos',\n",
       " u'blue-cheese',\n",
       " u'blue-diesel',\n",
       " u'blue-dragon',\n",
       " u'blue-galaxy',\n",
       " u'blue-knight',\n",
       " u'blue-lights',\n",
       " u'blue-mystic',\n",
       " u'blue-velvet',\n",
       " u'blue-zombie',\n",
       " u'boysenberry',\n",
       " u'bubbas-gift',\n",
       " u'bubbleberry',\n",
       " u'bubblicious',\n",
       " u'buddha-haze',\n",
       " u'casey-jones',\n",
       " u'cheesewreck',\n",
       " u'chemdawg-91',\n",
       " u'cherry-bomb',\n",
       " u'cherry-kola',\n",
       " u'cherry-kush',\n",
       " u'cindy-white',\n",
       " u'citrus-kush',\n",
       " u'copper-kush',\n",
       " u'crater-lake',\n",
       " u'crimea-blue',\n",
       " u'critical-47',\n",
       " u'crosswalker',\n",
       " u'dairy-queen',\n",
       " u'dance-world',\n",
       " u'darkside-og',\n",
       " u'dawgs-waltz',\n",
       " u'day-tripper',\n",
       " u'deadhead-og',\n",
       " u'death-bubba',\n",
       " u'deep-cheese',\n",
       " u'deep-purple',\n",
       " u'desert-star',\n",
       " u'devil-fruit',\n",
       " u'diesel-duff',\n",
       " u'dieseltonic',\n",
       " u'disney-blue',\n",
       " u'dougs-varin',\n",
       " u'dr-feelgood',\n",
       " u'dream-berry',\n",
       " u'dream-lotus',\n",
       " u'dream-queen',\n",
       " u'dutch-queen',\n",
       " u'dutch-treat',\n",
       " u'early-pearl',\n",
       " u'early-skunk',\n",
       " u'el-chapo-og',\n",
       " u'endless-sky',\n",
       " u'face-off-og',\n",
       " u'franks-gift',\n",
       " u'frisian-dew',\n",
       " u'fruit-loops',\n",
       " u'fruit-punch',\n",
       " u'ghost-bubba',\n",
       " u'golden-goat',\n",
       " u'grand-hindu',\n",
       " u'grape-calyx',\n",
       " ...]"
      ]
     },
     "execution_count": 71,
     "metadata": {},
     "output_type": "execute_result"
    }
   ],
   "source": [
    "prod_by_len"
   ]
  },
  {
   "cell_type": "code",
   "execution_count": 74,
   "metadata": {
    "collapsed": true
   },
   "outputs": [],
   "source": [
    "import scrape_leafly as sl"
   ]
  },
  {
   "cell_type": "code",
   "execution_count": 75,
   "metadata": {
    "collapsed": false
   },
   "outputs": [],
   "source": [
    "strains = sl.load_current_strains()"
   ]
  },
  {
   "cell_type": "code",
   "execution_count": 79,
   "metadata": {
    "collapsed": false
   },
   "outputs": [],
   "source": [
    "strain_names = np.array([s.split('/')[-1] for s in strains])"
   ]
  },
  {
   "cell_type": "code",
   "execution_count": 80,
   "metadata": {
    "collapsed": true
   },
   "outputs": [],
   "source": [
    "mask = strain_names == '0bf3f759-186e-4dad-89d0-e0fc7598ac53'"
   ]
  },
  {
   "cell_type": "code",
   "execution_count": 82,
   "metadata": {
    "collapsed": false
   },
   "outputs": [],
   "source": [
    "strains = np.array(strains)"
   ]
  },
  {
   "cell_type": "code",
   "execution_count": 83,
   "metadata": {
    "collapsed": false
   },
   "outputs": [
    {
     "data": {
      "text/plain": [
       "array(['/Indica/0bf3f759-186e-4dad-89d0-e0fc7598ac53'], \n",
       "      dtype='|S48')"
      ]
     },
     "execution_count": 83,
     "metadata": {},
     "output_type": "execute_result"
    }
   ],
   "source": [
    "strains[mask] # turns out it's berry white"
   ]
  },
  {
   "cell_type": "code",
   "execution_count": 84,
   "metadata": {
    "collapsed": true
   },
   "outputs": [],
   "source": [
    "mask = strain_names == '29aca226-23ba-4726-a4ab-f3bf68f2a3c4'"
   ]
  },
  {
   "cell_type": "code",
   "execution_count": 85,
   "metadata": {
    "collapsed": false
   },
   "outputs": [
    {
     "data": {
      "text/plain": [
       "array(['/Indica/29aca226-23ba-4726-a4ab-f3bf68f2a3c4'], \n",
       "      dtype='|S48')"
      ]
     },
     "execution_count": 85,
     "metadata": {},
     "output_type": "execute_result"
    }
   ],
   "source": [
    "strains[mask] # turns out it's dynamite"
   ]
  },
  {
   "cell_type": "code",
   "execution_count": 86,
   "metadata": {
    "collapsed": true
   },
   "outputs": [],
   "source": [
    "mask = strain_names == 'c42aa00a-595a-4e58-a7af-0f8ab998073a'"
   ]
  },
  {
   "cell_type": "code",
   "execution_count": 87,
   "metadata": {
    "collapsed": false
   },
   "outputs": [
    {
     "data": {
      "text/plain": [
       "array(['/Sativa/c42aa00a-595a-4e58-a7af-0f8ab998073a'], \n",
       "      dtype='|S48')"
      ]
     },
     "execution_count": 87,
     "metadata": {},
     "output_type": "execute_result"
    }
   ],
   "source": [
    "strains[mask] # it's kaboom"
   ]
  }
 ],
 "metadata": {
  "kernelspec": {
   "display_name": "Python 2",
   "language": "python",
   "name": "python2"
  },
  "language_info": {
   "codemirror_mode": {
    "name": "ipython",
    "version": 2
   },
   "file_extension": ".py",
   "mimetype": "text/x-python",
   "name": "python",
   "nbconvert_exporter": "python",
   "pygments_lexer": "ipython2",
   "version": "2.7.12"
  }
 },
 "nbformat": 4,
 "nbformat_minor": 1
}
