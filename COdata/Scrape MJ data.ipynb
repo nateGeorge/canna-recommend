{
 "cells": [
  {
   "cell_type": "code",
   "execution_count": 4,
   "metadata": {
    "collapsed": true
   },
   "outputs": [],
   "source": [
    "import requests\n",
    "from bs4 import BeautifulSoup as bs\n",
    "import cPickle as pk"
   ]
  },
  {
   "cell_type": "code",
   "execution_count": 2,
   "metadata": {
    "collapsed": true
   },
   "outputs": [],
   "source": [
    "# from http://stackoverflow.com/questions/16694907/how-to-download-large-file-in-python-with-requests-py\n",
    "def download_file(url):\n",
    "    local_filename = url.split('/')[-1]\n",
    "    # NOTE the stream=True parameter\n",
    "    r = requests.get(url, stream=True)\n",
    "    with open(local_filename, 'wb') as f:\n",
    "        for chunk in r.iter_content(chunk_size=1024):\n",
    "            if chunk: # filter out keep-alive new chunks\n",
    "                f.write(chunk)\n",
    "    return local_filename\n",
    "\n",
    "def download_reports(reports):\n",
    "    for y in reports.keys():\n",
    "        for d in reports[y]:\n",
    "            fname = download_file(d)"
   ]
  },
  {
   "cell_type": "code",
   "execution_count": 3,
   "metadata": {
    "collapsed": true
   },
   "outputs": [],
   "source": [
    "base_url = 'https://www.colorado.gov/pacific/cdphe/medical-marijuana-statistics-and-data'\n",
    "\n",
    "req = requests.get(base_url)\n",
    "soup = bs(req.content, 'lxml')\n",
    "year_stats = soup.findAll('ul')[1].findAll('li')\n",
    "reports = {}\n",
    "for y in year_stats:\n",
    "    new_url = y.findAll('a')[0].get('href')\n",
    "    year = new_url.split('/')[-1].split('-')[0]\n",
    "    new_req = requests.get(new_url)\n",
    "    new_soup =  bs(new_req.content, 'lxml')\n",
    "    report_links = new_soup.findAll('ul')[1].findAll('a')\n",
    "    reports[year] = []\n",
    "    for r in report_links:\n",
    "        reports[year].append(r.get('href'))"
   ]
  },
  {
   "cell_type": "code",
   "execution_count": 6,
   "metadata": {
    "collapsed": false
   },
   "outputs": [],
   "source": [
    "pk.dump(reports, open('reports_dict.pk', 'w'), 2)"
   ]
  },
  {
   "cell_type": "code",
   "execution_count": null,
   "metadata": {
    "collapsed": true
   },
   "outputs": [],
   "source": []
  }
 ],
 "metadata": {
  "kernelspec": {
   "display_name": "Python 2",
   "language": "python",
   "name": "python2"
  },
  "language_info": {
   "codemirror_mode": {
    "name": "ipython",
    "version": 2
   },
   "file_extension": ".py",
   "mimetype": "text/x-python",
   "name": "python",
   "nbconvert_exporter": "python",
   "pygments_lexer": "ipython2",
   "version": "2.7.12"
  }
 },
 "nbformat": 4,
 "nbformat_minor": 1
}
