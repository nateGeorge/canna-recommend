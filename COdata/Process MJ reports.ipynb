{
 "cells": [
  {
   "cell_type": "code",
   "execution_count": 90,
   "metadata": {
    "collapsed": false
   },
   "outputs": [
    {
     "data": {
      "text/html": [
       "\n",
       "    <div class=\"bk-root\">\n",
       "        <a href=\"http://bokeh.pydata.org\" target=\"_blank\" class=\"bk-logo bk-logo-small bk-logo-notebook\"></a>\n",
       "        <span id=\"f691ed0b-ef1f-4ee2-810a-7bd6dfe1757c\">Loading BokehJS ...</span>\n",
       "    </div>"
      ]
     },
     "metadata": {},
     "output_type": "display_data"
    },
    {
     "data": {
      "application/javascript": [
       "\n",
       "(function(global) {\n",
       "  function now() {\n",
       "    return new Date();\n",
       "  }\n",
       "\n",
       "  var force = \"1\";\n",
       "\n",
       "  if (typeof (window._bokeh_onload_callbacks) === \"undefined\" || force !== \"\") {\n",
       "    window._bokeh_onload_callbacks = [];\n",
       "    window._bokeh_is_loading = undefined;\n",
       "  }\n",
       "\n",
       "\n",
       "  \n",
       "  if (typeof (window._bokeh_timeout) === \"undefined\" || force !== \"\") {\n",
       "    window._bokeh_timeout = Date.now() + 5000;\n",
       "    window._bokeh_failed_load = false;\n",
       "  }\n",
       "\n",
       "  var NB_LOAD_WARNING = {'data': {'text/html':\n",
       "     \"<div style='background-color: #fdd'>\\n\"+\n",
       "     \"<p>\\n\"+\n",
       "     \"BokehJS does not appear to have successfully loaded. If loading BokehJS from CDN, this \\n\"+\n",
       "     \"may be due to a slow or bad network connection. Possible fixes:\\n\"+\n",
       "     \"</p>\\n\"+\n",
       "     \"<ul>\\n\"+\n",
       "     \"<li>re-rerun `output_notebook()` to attempt to load from CDN again, or</li>\\n\"+\n",
       "     \"<li>use INLINE resources instead, as so:</li>\\n\"+\n",
       "     \"</ul>\\n\"+\n",
       "     \"<code>\\n\"+\n",
       "     \"from bokeh.resources import INLINE\\n\"+\n",
       "     \"output_notebook(resources=INLINE)\\n\"+\n",
       "     \"</code>\\n\"+\n",
       "     \"</div>\"}};\n",
       "\n",
       "  function display_loaded() {\n",
       "    if (window.Bokeh !== undefined) {\n",
       "      Bokeh.$(\"#f691ed0b-ef1f-4ee2-810a-7bd6dfe1757c\").text(\"BokehJS successfully loaded.\");\n",
       "    } else if (Date.now() < window._bokeh_timeout) {\n",
       "      setTimeout(display_loaded, 100)\n",
       "    }\n",
       "  }\n",
       "\n",
       "  function run_callbacks() {\n",
       "    window._bokeh_onload_callbacks.forEach(function(callback) { callback() });\n",
       "    delete window._bokeh_onload_callbacks\n",
       "    console.info(\"Bokeh: all callbacks have finished\");\n",
       "  }\n",
       "\n",
       "  function load_libs(js_urls, callback) {\n",
       "    window._bokeh_onload_callbacks.push(callback);\n",
       "    if (window._bokeh_is_loading > 0) {\n",
       "      console.log(\"Bokeh: BokehJS is being loaded, scheduling callback at\", now());\n",
       "      return null;\n",
       "    }\n",
       "    if (js_urls == null || js_urls.length === 0) {\n",
       "      run_callbacks();\n",
       "      return null;\n",
       "    }\n",
       "    console.log(\"Bokeh: BokehJS not loaded, scheduling load and callback at\", now());\n",
       "    window._bokeh_is_loading = js_urls.length;\n",
       "    for (var i = 0; i < js_urls.length; i++) {\n",
       "      var url = js_urls[i];\n",
       "      var s = document.createElement('script');\n",
       "      s.src = url;\n",
       "      s.async = false;\n",
       "      s.onreadystatechange = s.onload = function() {\n",
       "        window._bokeh_is_loading--;\n",
       "        if (window._bokeh_is_loading === 0) {\n",
       "          console.log(\"Bokeh: all BokehJS libraries loaded\");\n",
       "          run_callbacks()\n",
       "        }\n",
       "      };\n",
       "      s.onerror = function() {\n",
       "        console.warn(\"failed to load library \" + url);\n",
       "      };\n",
       "      console.log(\"Bokeh: injecting script tag for BokehJS library: \", url);\n",
       "      document.getElementsByTagName(\"head\")[0].appendChild(s);\n",
       "    }\n",
       "  };var element = document.getElementById(\"f691ed0b-ef1f-4ee2-810a-7bd6dfe1757c\");\n",
       "  if (element == null) {\n",
       "    console.log(\"Bokeh: ERROR: autoload.js configured with elementid 'f691ed0b-ef1f-4ee2-810a-7bd6dfe1757c' but no matching script tag was found. \")\n",
       "    return false;\n",
       "  }\n",
       "\n",
       "  var js_urls = ['https://cdn.pydata.org/bokeh/release/bokeh-0.12.3.min.js', 'https://cdn.pydata.org/bokeh/release/bokeh-widgets-0.12.3.min.js'];\n",
       "\n",
       "  var inline_js = [\n",
       "    function(Bokeh) {\n",
       "      Bokeh.set_log_level(\"info\");\n",
       "    },\n",
       "    \n",
       "    function(Bokeh) {\n",
       "      \n",
       "      Bokeh.$(\"#f691ed0b-ef1f-4ee2-810a-7bd6dfe1757c\").text(\"BokehJS is loading...\");\n",
       "    },\n",
       "    function(Bokeh) {\n",
       "      console.log(\"Bokeh: injecting CSS: https://cdn.pydata.org/bokeh/release/bokeh-0.12.3.min.css\");\n",
       "      Bokeh.embed.inject_css(\"https://cdn.pydata.org/bokeh/release/bokeh-0.12.3.min.css\");\n",
       "      console.log(\"Bokeh: injecting CSS: https://cdn.pydata.org/bokeh/release/bokeh-widgets-0.12.3.min.css\");\n",
       "      Bokeh.embed.inject_css(\"https://cdn.pydata.org/bokeh/release/bokeh-widgets-0.12.3.min.css\");\n",
       "    }\n",
       "  ];\n",
       "\n",
       "  function run_inline_js() {\n",
       "    \n",
       "    if ((window.Bokeh !== undefined) || (force === \"1\")) {\n",
       "      for (var i = 0; i < inline_js.length; i++) {\n",
       "        inline_js[i](window.Bokeh);\n",
       "      }if (force === \"1\") {\n",
       "        display_loaded();\n",
       "      }} else if (Date.now() < window._bokeh_timeout) {\n",
       "      setTimeout(run_inline_js, 100);\n",
       "    } else if (!window._bokeh_failed_load) {\n",
       "      console.log(\"Bokeh: BokehJS failed to load within specified timeout.\");\n",
       "      window._bokeh_failed_load = true;\n",
       "    } else if (!force) {\n",
       "      var cell = $(\"#f691ed0b-ef1f-4ee2-810a-7bd6dfe1757c\").parents('.cell').data().cell;\n",
       "      cell.output_area.append_execute_result(NB_LOAD_WARNING)\n",
       "    }\n",
       "\n",
       "  }\n",
       "\n",
       "  if (window._bokeh_is_loading === 0) {\n",
       "    console.log(\"Bokeh: BokehJS loaded, going straight to plotting\");\n",
       "    run_inline_js();\n",
       "  } else {\n",
       "    load_libs(js_urls, function() {\n",
       "      console.log(\"Bokeh: BokehJS plotting callback run at\", now());\n",
       "      run_inline_js();\n",
       "    });\n",
       "  }\n",
       "}(this));"
      ]
     },
     "metadata": {},
     "output_type": "display_data"
    }
   ],
   "source": [
    "from glob import iglob\n",
    "import os\n",
    "import cPickle as pk\n",
    "import pandas as pd\n",
    "import seaborn as sns\n",
    "import matplotlib.pyplot as plt\n",
    "from bokeh.charts import Line, show, output_file\n",
    "from bokeh.io import output_notebook\n",
    "from bokeh.mpl import to_bokeh as tb\n",
    "output_notebook()\n",
    "\n",
    "%matplotlib inline"
   ]
  },
  {
   "cell_type": "code",
   "execution_count": 2,
   "metadata": {
    "collapsed": false
   },
   "outputs": [
    {
     "data": {
      "text/plain": [
       "['03_2015_%20MMR_report_draft.pdf',\n",
       " '04_2015_MMR_Stats.pdf',\n",
       " '05_2015_MMR_report.pdf',\n",
       " '06_2015_MMR_report.pdf',\n",
       " '07_2015_MMRReport.pdf',\n",
       " '09_2015_MMRreport.pdf',\n",
       " 'CHED-MMJ_1_2015_MMR_REPORT.pdf',\n",
       " 'CHED_MMJ_01-2009_1.pdf',\n",
       " 'CHED_MMJ_01_2013_MMR_report.pdf',\n",
       " 'CHED_MMJ_01_2014_MMR_report.pdf',\n",
       " 'CHED_MMJ_02-2009_1.pdf',\n",
       " 'CHED_MMJ_02_2013_MMR_report.pdf',\n",
       " 'CHED_MMJ_02_2014_MMR_report.pdf',\n",
       " 'CHED_MMJ_08_2013_MMR_report.pdf',\n",
       " 'CHED_MMJ_08_2014_%20MMR_report.pdf',\n",
       " 'CHED_MMJ_09-2009_1.pdf',\n",
       " 'CHED_MMJ_09_2013_MMR_report.pdf',\n",
       " 'CHED_MMJ_09_2014_%20MMR_report_0.pdf',\n",
       " 'CHED_MMJ_10-2009_1.pdf',\n",
       " 'CHED_MMJ_10_2013_MMR_report.pdf',\n",
       " 'CHED_MMJ_10_2014_%20MMR_report.pdf',\n",
       " 'CHED_MMJ_11-2009_1.pdf',\n",
       " 'CHED_MMJ_11_2013_MMR_report.pdf',\n",
       " 'CHED_MMJ_11_2014_%20MMR_report.pdf',\n",
       " 'CHED_MMJ_12-2009_1.pdf',\n",
       " 'CHED_MMJ_12_2013_MMR_report.pdf',\n",
       " 'CHED_MMJ_12_2014_MMR_Report.pdf',\n",
       " 'CHED_MMR_01_2010_%20MMR_report_draft.pdf',\n",
       " 'CHED_MMR_01_2011_MMR_report.pdf',\n",
       " 'CHED_MMR_01_2012_MMR_report.pdf',\n",
       " 'CHED_MMR_02_2010_%20MMR_report_draftx.pdf',\n",
       " 'CHED_MMR_02_2011_MMR_report.pdf',\n",
       " 'CHED_MMR_02_2012_MMR_report.pdf',\n",
       " 'CHED_MMR_03_2010_%20MMR_report_draft.pdf',\n",
       " 'CHED_MMR_03_2011_MMR_report.pdf',\n",
       " 'CHED_MMR_03_2012_MMR_report.pdf',\n",
       " 'CHED_MMR_04_2010_%20MMR_report_draft.pdf',\n",
       " 'CHED_MMR_04_2011_MMR_report.pdf',\n",
       " 'CHED_MMR_04_2012_MMR_report.pdf',\n",
       " 'CHED_MMR_05_2010_%20MMR_report_draft.pdf',\n",
       " 'CHED_MMR_Report_08_2015_1115.pdf',\n",
       " 'CHED_MMR_Report_August_2016_Statistics_092016_1.pdf',\n",
       " 'CHED_MMR_Report_December2015_Statistics_0116.pdf',\n",
       " 'CHED_MMR_Report_February2016_Statistics_0416.pdf',\n",
       " 'CHED_MMR_Report_January2016_Statistics_0416.pdf',\n",
       " 'CHED_MMR_Report_November2015_Statistics_0116.pdf',\n",
       " 'CHED_MMR_Report_October2015_Statistics_0116.pdf',\n",
       " 'CHED_MMR_StatisticsReport_0215.pdf',\n",
       " 'CHED_MMR__Report_March2016_Statistics_0416.pdf',\n",
       " 'CHED_MMR_05_2012_MMR_report.pdf',\n",
       " 'CHED_MMR_06_2010_%20MMR_report_draft.pdf',\n",
       " 'CHED_MMR_06_2011_MMR_report.pdf',\n",
       " 'CHED_MMR_06_2012_MMR_report.pdf',\n",
       " 'CHED_MMR_07_2010_%20MMR_report_draft.pdf',\n",
       " 'CHED_MMR_07_2011_MMR_report.pdf',\n",
       " 'CHED_MMR_07_2012_MMR_report.pdf',\n",
       " 'CHED_MMR_08_2010_%20MMR_report_draft.pdf',\n",
       " 'CHED_MMR_08_2011_MMR_report.pdf',\n",
       " 'CHED_MMR_08_2012_MMR_report.pdf',\n",
       " 'CHED_MMR_09_2010_%20MMR_report_draft.pdf',\n",
       " 'CHED_MMR_09_2011_MMR_report.pdf',\n",
       " 'CHED_MMR_09_2012_MMR_report.pdf',\n",
       " 'CHED_MMR_10_2010_%20MMR_report_draft.pdf',\n",
       " 'CHED_MMR_10_2011_MMR_report.pdf',\n",
       " 'CHED_MMR_10_2012_MMR_report.pdf',\n",
       " 'CHED_MMR_11_2010_%20MMR_report_draft.pdf',\n",
       " 'CHED_MMR_11_2011_MMR_report.pdf',\n",
       " 'CHED_MMR_11_2012_MMR_report.pdf',\n",
       " 'CHED_MMR_12_2010_%20MMR_report.pdf',\n",
       " 'CHED_MMR_12_2011_MMR_report.pdf',\n",
       " 'CHED_MMR_12_2012_MMR_report.pdf',\n",
       " 'CHED_MMR_Monthly_Report_Statistics_April_2016.pdf',\n",
       " 'CHED_MMR_Monthly_Report_Statistics_July_2016.pdf',\n",
       " 'CHED_MMR_Monthly_Report_Statistics_June_%202016.pdf',\n",
       " 'CHED_MMJ_03-2009_1.pdf',\n",
       " 'CHED_MMJ_08-2009_1.pdf',\n",
       " 'CHED_MMR_05_2011_MMR_report.pdf',\n",
       " 'CHED_MMR_Monthly_Report_Statistics_May_2016.pdf',\n",
       " 'CHED_MMJ_03_2013_MMR_report.pdf',\n",
       " 'CHED_MMJ_03_2014_MMR_report.pdf',\n",
       " 'CHED_MMJ_04-2009_1.pdf',\n",
       " 'CHED_MMJ_04_2013_MMR_report.pdf',\n",
       " 'CHED_MMJ_04_2014_MMR_report.pdf',\n",
       " 'CHED_MMJ_05-2009_1.pdf',\n",
       " 'CHED_MMJ_05_2013_MMR_report.pdf',\n",
       " 'CHED_MMJ_05_2014_MMR_report.pdf',\n",
       " 'CHED_MMJ_06-2009_1.pdf',\n",
       " 'CHED_MMJ_06_2013_MMR_report.pdf',\n",
       " 'CHED_MMJ_06_2014_MMR_report.pdf',\n",
       " 'CHED_MMJ_07-2009_1.pdf',\n",
       " 'CHED_MMJ_07_2013_MMR_report.pdf',\n",
       " 'CHED_MMJ_07_2014_%20MMR_report2.pdf']"
      ]
     },
     "execution_count": 2,
     "metadata": {},
     "output_type": "execute_result"
    }
   ],
   "source": [
    "list(iglob('*.pdf'))"
   ]
  },
  {
   "cell_type": "code",
   "execution_count": 109,
   "metadata": {
    "collapsed": true
   },
   "outputs": [],
   "source": [
    "def parse_pdf_gender(file_n):\n",
    "    genderWords = set(['Gender', 'Sex'])\n",
    "    with open(file_n) as f:\n",
    "        table1 = False\n",
    "        table1dat = []\n",
    "        for l in f.readlines():\n",
    "            words = [i.strip('\\n').strip() for i in l.split('  ') if i != '' and i != '\\n']\n",
    "            if len(words) > 0 and words[0] in genderWords:\n",
    "                table1 = True\n",
    "            if table1:\n",
    "                table1dat.append(words)\n",
    "                if len(words) == 0:\n",
    "                    table1 = False\n",
    "                    table1dat = table1dat[:-2] # get rid of blank line and **\n",
    "                    table1dat[0] = [t.strip('**') for t in table1dat[0]]\n",
    "\n",
    "        return table1dat"
   ]
  },
  {
   "cell_type": "code",
   "execution_count": 4,
   "metadata": {
    "collapsed": true
   },
   "outputs": [],
   "source": [
    "report_dict = pk.load(open('reports_dict.pk'))"
   ]
  },
  {
   "cell_type": "code",
   "execution_count": 18,
   "metadata": {
    "collapsed": false
   },
   "outputs": [],
   "source": [
    "years = sorted(report_dict.keys())\n",
    "years.remove('2009')"
   ]
  },
  {
   "cell_type": "code",
   "execution_count": 19,
   "metadata": {
    "collapsed": false
   },
   "outputs": [
    {
     "data": {
      "text/plain": [
       "['2010', '2011', '2012', '2013', '2014', '2015', '2016']"
      ]
     },
     "execution_count": 19,
     "metadata": {},
     "output_type": "execute_result"
    }
   ],
   "source": [
    "years"
   ]
  },
  {
   "cell_type": "code",
   "execution_count": 20,
   "metadata": {
    "collapsed": false
   },
   "outputs": [
    {
     "data": {
      "text/plain": [
       "['CHED_MMJ_01-2009_1.pdf',\n",
       " 'CHED_MMJ_02-2009_1.pdf',\n",
       " 'CHED_MMJ_03-2009_1.pdf',\n",
       " 'CHED_MMJ_04-2009_1.pdf',\n",
       " 'CHED_MMJ_05-2009_1.pdf',\n",
       " 'CHED_MMJ_06-2009_1.pdf',\n",
       " 'CHED_MMJ_07-2009_1.pdf',\n",
       " 'CHED_MMJ_08-2009_1.pdf',\n",
       " 'CHED_MMJ_09-2009_1.pdf',\n",
       " 'CHED_MMJ_10-2009_1.pdf',\n",
       " 'CHED_MMJ_11-2009_1.pdf',\n",
       " 'CHED_MMJ_12-2009_1.pdf']"
      ]
     },
     "execution_count": 20,
     "metadata": {},
     "output_type": "execute_result"
    }
   ],
   "source": [
    "[r.split('/')[-1] for r in report_dict['2009'][::-1]]"
   ]
  },
  {
   "cell_type": "code",
   "execution_count": 24,
   "metadata": {
    "collapsed": false
   },
   "outputs": [],
   "source": [
    "r1 = [r.split('/')[-1] for r in report_dict[years[0]][::-1]][0]"
   ]
  },
  {
   "cell_type": "code",
   "execution_count": 25,
   "metadata": {
    "collapsed": false
   },
   "outputs": [
    {
     "data": {
      "text/plain": [
       "'CHED_MMR_01_2010_%20MMR_report_draft.pdf'"
      ]
     },
     "execution_count": 25,
     "metadata": {},
     "output_type": "execute_result"
    }
   ],
   "source": [
    "r1"
   ]
  },
  {
   "cell_type": "code",
   "execution_count": 26,
   "metadata": {
    "collapsed": false
   },
   "outputs": [
    {
     "data": {
      "text/plain": [
       "0"
      ]
     },
     "execution_count": 26,
     "metadata": {},
     "output_type": "execute_result"
    }
   ],
   "source": [
    "os.system(\"pdftotext -layout \" +  r1 + \" \" + r1.split('.')[0] + \".txt\")"
   ]
  },
  {
   "cell_type": "code",
   "execution_count": 30,
   "metadata": {
    "collapsed": false
   },
   "outputs": [
    {
     "name": "stdout",
     "output_type": "stream",
     "text": [
      "['Sex', 'Percent on Registry', 'Average Age**']\n",
      "['Male', '73%', '39']\n",
      "['Female', '27%', '42']\n",
      "['** The overall average age of all patients is 40 years old.']\n",
      "[]\n"
     ]
    }
   ],
   "source": [
    "t1d = parse_pdf_gender(r1.split('.')[0] + \".txt\")"
   ]
  },
  {
   "cell_type": "code",
   "execution_count": 31,
   "metadata": {
    "collapsed": false
   },
   "outputs": [
    {
     "data": {
      "text/plain": [
       "[['Sex', 'Percent on Registry', 'Average Age**'],\n",
       " ['Male', '73%', '39'],\n",
       " ['Female', '27%', '42']]"
      ]
     },
     "execution_count": 31,
     "metadata": {},
     "output_type": "execute_result"
    }
   ],
   "source": [
    "t1d"
   ]
  },
  {
   "cell_type": "code",
   "execution_count": 65,
   "metadata": {
    "collapsed": false
   },
   "outputs": [
    {
     "name": "stdout",
     "output_type": "stream",
     "text": [
      "CHED_MMR_01_2010_%20MMR_report_draft.pdf\n",
      "[['Sex', 'Percent on Registry', 'Average Age'], ['Male', '73%', '39'], ['Female', '27%', '42']]\n",
      "CHED_MMR_02_2010_%20MMR_report_draftx.pdf\n",
      "[['Sex', 'Percent on Registry', 'Average Age'], ['Male', '72%', '39'], ['Female', '28%', '42']]\n",
      "CHED_MMR_03_2010_%20MMR_report_draft.pdf\n",
      "[['Sex', 'Percent on Registry', 'Average Age'], ['Male', '72%', '39'], ['Female', '28%', '42']]\n",
      "CHED_MMR_04_2010_%20MMR_report_draft.pdf\n",
      "[['Sex', 'Percent on Registry', 'Average Age'], ['Male', '71%', '39'], ['Female', '29%', '42']]\n",
      "CHED_MMR_05_2010_%20MMR_report_draft.pdf\n",
      "[['Sex', 'Percent on Registry', 'Average Age'], ['Male', '71%', '39'], ['Female', '29%', '42']]\n",
      "CHED_MMR_06_2010_%20MMR_report_draft.pdf\n",
      "[['Sex', 'Percent on Registry', 'Average Age'], ['Male', '71%', '39'], ['Female', '29%', '42']]\n",
      "CHED_MMR_07_2010_%20MMR_report_draft.pdf\n",
      "[['Sex', 'Percent on Registry', 'Average Age'], ['Male', '70%', '39'], ['Female', '30%', '41']]\n",
      "CHED_MMR_08_2010_%20MMR_report_draft.pdf\n",
      "[['Sex', 'Percent on Registry', 'Average Age'], ['Male', '70%', '39'], ['Female', '30%', '41']]\n",
      "CHED_MMR_09_2010_%20MMR_report_draft.pdf\n",
      "[['Sex', 'Percent on Registry', 'Average Age'], ['Male', '70%', '39'], ['Female', '30%', '42']]\n",
      "CHED_MMR_10_2010_%20MMR_report_draft.pdf\n",
      "[['Sex', 'Percent on Registry', 'Average Age'], ['Male', '70%', '39'], ['Female', '30%', '42']]\n",
      "CHED_MMR_11_2010_%20MMR_report_draft.pdf\n",
      "[['Sex', 'Percent on Registry', 'Average Age'], ['Male', '70%', '39'], ['Female', '30%', '42']]\n",
      "CHED_MMR_12_2010_%20MMR_report.pdf\n",
      "[['Sex', 'Percent on Registry', 'Average Age'], ['Male', '69%', '39'], ['Female', '31%', '42']]\n",
      "CHED_MMR_01_2011_MMR_report.pdf\n",
      "[['Sex', 'Percent on Registry', 'Average Age'], ['Male', '69%', '39'], ['Female', '31%', '42']]\n",
      "CHED_MMR_02_2011_MMR_report.pdf\n",
      "[['Sex', 'Percent on Registry', 'Average Age'], ['Male', '69%', '39'], ['Female', '31%', '42']]\n",
      "CHED_MMR_03_2011_MMR_report.pdf\n",
      "[['Sex', 'Percent on Registry', 'Average Age'], ['Male', '69%', '39'], ['Female', '31%', '42']]\n",
      "CHED_MMR_04_2011_MMR_report.pdf\n",
      "[['Sex', 'Percent on Registry', 'Average Age'], ['Male', '69%', '40'], ['Female', '31%', '42']]\n",
      "CHED_MMR_05_2011_MMR_report.pdf\n",
      "[['Sex', 'Percent on Registry', 'Average Age'], ['Male', '69%', '40'], ['Female', '31%', '42']]\n",
      "CHED_MMR_06_2011_MMR_report.pdf\n",
      "[['Sex', 'Percent on Registry', 'Average Age'], ['Male', '69%', '39'], ['Female', '31%', '42']]\n",
      "CHED_MMR_07_2011_MMR_report.pdf\n",
      "[['Sex', 'Percent on Registry', 'Average Age'], ['Male', '68%', '40'], ['Female', '32%', '42']]\n",
      "CHED_MMR_08_2011_MMR_report.pdf\n",
      "[['Sex', 'Percent on Registry', 'Average Age'], ['Male', '68%', '40'], ['Female', '32%', '43']]\n",
      "CHED_MMR_09_2011_MMR_report.pdf\n",
      "[['Sex', 'Percent on Registry', 'Average Age'], ['Male', '68%', '40'], ['Female', '32%', '43']]\n",
      "CHED_MMR_10_2011_MMR_report.pdf\n",
      "[['Sex', 'Percent on Registry', 'Average Age'], ['Male', '68%', '41'], ['Female', '32%', '43']]\n",
      "CHED_MMR_11_2011_MMR_report.pdf\n",
      "[['Sex', 'Percent on Registry', 'Average Age'], ['Male', '69%', '41'], ['Female', '31%', '43']]\n",
      "CHED_MMR_12_2011_MMR_report.pdf\n",
      "[['Sex', 'Percent on Registry', 'Average Age'], ['Male', '68%', '41'], ['Female', '32%', '44']]\n",
      "CHED_MMR_01_2012_MMR_report.pdf\n",
      "[['Sex', 'Percent on Registry', 'Average Age'], ['Male', '69%', '41'], ['Female', '31%', '44']]\n",
      "CHED_MMR_02_2012_MMR_report.pdf\n",
      "[['Sex', 'Percent on Registry', 'Average Age'], ['Male', '68%', '41'], ['Female', '32%', '44']]\n",
      "CHED_MMR_03_2012_MMR_report.pdf\n",
      "[['Sex', 'Percent on Registry', 'Average Age'], ['Male', '68%', '41'], ['Female', '32%', '43']]\n",
      "CHED_MMR_04_2012_MMR_report.pdf\n",
      "[['Sex', 'Percent on Registry', 'Average Age'], ['Male', '68%', '41'], ['Female', '32%', '43']]\n",
      "CHED_MMR_05_2012_MMR_report.pdf\n",
      "[['Sex', 'Percent on Registry', 'Average Age'], ['Male', '68%', '41'], ['Female', '32%', '43']]\n",
      "CHED_MMR_06_2012_MMR_report.pdf\n",
      "[['Sex', 'Percent on Registry', 'Average Age'], ['Male', '68%', '41'], ['Female', '32%', '43']]\n",
      "CHED_MMR_07_2012_MMR_report.pdf\n",
      "[['Sex', 'Percent on Registry', 'Average Age'], ['Male', '68%', '41'], ['Female', '32%', '43']]\n",
      "CHED_MMR_08_2012_MMR_report.pdf\n",
      "[['Sex', 'Percent on Registry', 'Average Age'], ['Male', '68%', '41'], ['Female', '32%', '43']]\n",
      "CHED_MMR_09_2012_MMR_report.pdf\n",
      "[['Sex', 'Percent on Registry', 'Average Age'], ['Male', '68%', '41'], ['Female', '32%', '43']]\n",
      "CHED_MMR_10_2012_MMR_report.pdf\n",
      "[['Sex', 'Percent on Registry', 'Average Age'], ['Male', '68%', '41'], ['Female', '32%', '43']]\n",
      "CHED_MMR_11_2012_MMR_report.pdf\n",
      "[['Sex', 'Percent on Registry', 'Average Age'], ['Male', '68%', '41'], ['Female', '32%', '43']]\n",
      "CHED_MMR_12_2012_MMR_report.pdf\n",
      "[['Sex', 'Percent on Registry', 'Average Age'], ['Male', '68%', '41'], ['Female', '32%', '43']]\n",
      "CHED_MMJ_01_2013_MMR_report.pdf\n",
      "[['Sex', 'Percent on Registry', 'Average Age'], ['Male', '68%', '41'], ['Female', '32%', '43']]\n",
      "CHED_MMJ_02_2013_MMR_report.pdf\n",
      "[['Sex', 'Percent on Registry', 'Average Age'], ['Male', '68%', '40'], ['Female', '32%', '43']]\n",
      "CHED_MMJ_03_2013_MMR_report.pdf\n",
      "[['Sex', 'Percent on Registry', 'Average Age'], ['Male', '68%', '40'], ['Female', '32%', '43']]\n",
      "CHED_MMJ_04_2013_MMR_report.pdf\n",
      "[['Sex', 'Percent on Registry', 'Average Age'], ['Male', '67%', '41'], ['Female', '33%', '43']]\n",
      "CHED_MMJ_05_2013_MMR_report.pdf\n",
      "[['Sex', 'Percent on Registry', 'Average Age'], ['Male', '67%', '41'], ['Female', '33%', '43']]\n",
      "CHED_MMJ_06_2013_MMR_report.pdf\n",
      "[['Sex', 'Percent on Registry', 'Average Age'], ['Male', '67%', '41'], ['Female', '33%', '44']]\n",
      "CHED_MMJ_07_2013_MMR_report.pdf\n",
      "[['Sex', 'Percent on Registry', 'Average Age'], ['Male', '67%', '41'], ['Female', '33%', '44']]\n",
      "CHED_MMJ_08_2013_MMR_report.pdf\n",
      "[['Sex', 'Percent on Registry', 'Average Age'], ['Male', '67%', '41'], ['Female', '33%', '44']]\n",
      "CHED_MMJ_09_2013_MMR_report.pdf\n",
      "[['Sex', 'Percent on Registry', 'Average Age'], ['Male', '67%', '41'], ['Female', '33%', '44']]\n",
      "CHED_MMJ_10_2013_MMR_report.pdf\n",
      "[['Sex', 'Percent on Registry', 'Average Age'], ['Male', '67%', '41'], ['Female', '33%', '44']]\n",
      "CHED_MMJ_11_2013_MMR_report.pdf\n",
      "[['Sex', 'Percent on Registry', 'Average Age'], ['Male', '67%', '40'], ['Female', '33%', '44']]\n",
      "CHED_MMJ_12_2013_MMR_report.pdf\n",
      "[['Sex', 'Percent on Registry', 'Average Age'], ['Male', '67%', '40'], ['Female', '33%', '44']]\n",
      "CHED_MMJ_01_2014_MMR_report.pdf\n",
      "[['Sex', 'Percent on Registry', 'Average Age'], ['Male', '67%', '40'], ['Female', '33%', '44']]\n",
      "CHED_MMJ_02_2014_MMR_report.pdf\n",
      "[['Sex', 'Percent on Registry', 'Average Age'], ['Male', '67%', '40'], ['Female', '33%', '44']]\n",
      "CHED_MMJ_03_2014_MMR_report.pdf\n",
      "[['Sex', 'Percent on Registry', 'Average Age'], ['Male', '66%', '40'], ['Female', '34%', '44']]\n",
      "CHED_MMJ_04_2014_MMR_report.pdf\n",
      "[['Sex', 'Percent on Registry', 'Average Age'], ['Male', '66%', '41'], ['Female', '34%', '44']]\n",
      "CHED_MMJ_05_2014_MMR_report.pdf\n",
      "[['Sex', 'Percent on Registry', 'Average Age'], ['Male', '66%', '41'], ['Female', '34%', '44']]\n",
      "CHED_MMJ_06_2014_MMR_report.pdf\n",
      "[['Sex', 'Percent on Registry', 'Average Age'], ['Male', '66%', '41'], ['Female', '34%', '44']]\n",
      "CHED_MMJ_07_2014_%20MMR_report2.pdf\n",
      "[['Sex', 'Percent on Registry', 'Average Age'], ['Male', '66%', '41'], ['Female', '34%', '44']]\n",
      "CHED_MMJ_08_2014_%20MMR_report.pdf\n",
      "[['Sex', 'Percent on Registry', 'Average Age'], ['Male', '66%', '44'], ['Female', '34%', '41']]\n",
      "CHED_MMJ_09_2014_%20MMR_report_0.pdf\n",
      "[['Sex', 'Percent on Registry', 'Average Age'], ['Male', '66%', '41'], ['Female', '34%', '44']]\n",
      "CHED_MMJ_10_2014_%20MMR_report.pdf\n",
      "[['Sex', 'Percent on Registry', 'Average Age'], ['Male', '65%', '41'], ['Female', '35%', '44']]\n",
      "CHED_MMJ_11_2014_%20MMR_report.pdf\n",
      "[['Sex', 'Percent on Registry', 'Average Age'], ['Male', '65%', '41'], ['Female', '35%', '44']]\n",
      "CHED_MMJ_12_2014_MMR_Report.pdf\n",
      "[['Sex', 'Percent on Registry', 'Average Age'], ['Male', '65%', '41'], ['Female', '35%', '45']]\n",
      "CHED-MMJ_1_2015_MMR_REPORT.pdf\n",
      "[['Sex', 'Percent on Registry', 'Average Age'], ['Male', '65.1%', '41'], ['Female', '34.9%', '45']]\n",
      "CHED_MMR_StatisticsReport_0215.pdf\n",
      "[['Sex', 'Percent on Registry', 'Average Age'], ['Male', '65.0%', '41'], ['Female', '35.0%', '45']]\n",
      "03_2015_%20MMR_report_draft.pdf\n",
      "[['Sex', 'Percent on Registry', 'Average Age'], ['Male', '65%', '41'], ['Female', '35%', '45']]\n",
      "04_2015_MMR_Stats.pdf\n",
      "[['Gender', 'Average Age', 'Percentage on Registry'], ['Male', '41.2', '65.0%'], ['Female', '44.8', '35.0%']]\n",
      "05_2015_MMR_report.pdf\n",
      "[['Gender', 'Average Age', 'Percentage on Registry'], ['Male', '41.2', '65.0%'], ['Female', '44.8', '35.0%']]\n",
      "06_2015_MMR_report.pdf\n",
      "[['Gender', 'Average Age', 'Percentage on Registry'], ['Male', '41.2', '65.0%'], ['Female', '44.9', '35.0%']]\n",
      "07_2015_MMRReport.pdf\n",
      "[['Gender', 'Average Age', 'Percentage on Registry'], ['Male', '41.2', '65.0%'], ['Female', '44.8', '35.0%']]\n",
      "CHED_MMR_Report_08_2015_1115.pdf\n",
      "[['Gender', 'Average Age', 'Percentage on Registry'], ['Male', '41.2', '65.1%'], ['Female', '44.8', '34.9%']]\n",
      "09_2015_MMRreport.pdf\n",
      "[['Gender', 'Average Age', 'Percentage on Registry'], ['Male', '41.2', '65.1%'], ['Female', '44.9', '34.9%']]\n",
      "CHED_MMR_Report_October2015_Statistics_0116.pdf\n",
      "[['Gender', 'Average Age', 'Percentage on Registry'], ['Male', '41.2', '65.0%'], ['Female', '44.9', '35.0%']]\n",
      "CHED_MMR_Report_November2015_Statistics_0116.pdf\n",
      "[['Gender', 'Average Age', 'Percentage on Registry'], ['Male', '41.4', '64.9%'], ['Female', '45.0', '35.1%']]\n",
      "CHED_MMR_Report_December2015_Statistics_0116.pdf\n",
      "[['Gender', 'Average Age', 'Percentage on Registry'], ['Male', '41.5', '64.8%'], ['Female', '45.1', '35.2%']]\n",
      "CHED_MMR_Report_January2016_Statistics_0416.pdf\n",
      "[['Gender', 'Average Age', 'Percentage on Registry'], ['Male', '41.5', '64.8%'], ['Female', '45.2', '35.2%']]\n",
      "CHED_MMR_Report_February2016_Statistics_0416.pdf\n",
      "[['Gender', 'Average Age', 'Percentage on Registry'], ['Male', '41.6', '64.7%'], ['Female', '45.2', '35.3%']]\n",
      "CHED_MMR__Report_March2016_Statistics_0416.pdf\n",
      "[['Gender', 'Average Age', 'Percentage on Registry'], ['Male', '41.7', '64.5%'], ['Female', '45.3', '35.5%']]\n",
      "CHED_MMR_Monthly_Report_Statistics_April_2016.pdf\n",
      "[['Gender', 'Average Age', 'Percentage on Registry'], ['Male', '41.8', '64.4%'], ['Female', '45.4', '35.6%']]\n",
      "CHED_MMR_Monthly_Report_Statistics_May_2016.pdf\n",
      "[['Gender', 'Average Age', 'Percentage on Registry'], ['Male', '41.8', '64.3%'], ['Female', '45.5', '35.7%']]\n",
      "CHED_MMR_Monthly_Report_Statistics_June_%202016.pdf\n",
      "[['Gender', 'Average Age', 'Percentage on Registry'], ['Male', '42.0', '64.1%'], ['Female', '45.6', '35.9%']]\n",
      "CHED_MMR_Monthly_Report_Statistics_July_2016.pdf\n",
      "[['Gender', 'Average Age', 'Percentage on Registry'], ['Male', '42.2', '64.0%'], ['Female', '45.8', '36.0%']]\n",
      "CHED_MMR_Report_August_2016_Statistics_092016_1.pdf\n",
      "[['Gender', 'Average Age', 'Percentage on Registry'], ['Male', '42.3', '63.8%'], ['Female', '45.9', '36.2%']]\n"
     ]
    }
   ],
   "source": [
    "t1ds = []\n",
    "docYears = []\n",
    "for y in years:\n",
    "    for rep in [r.split('/')[-1] for r in report_dict[y][::-1]]:\n",
    "        docYears.append(int(y))\n",
    "        print rep\n",
    "        os.system(\"pdftotext -layout \" +  rep + \" \" + rep.split('.')[0] + \".txt\")\n",
    "        t1d = parse_pdf_gender(rep.split('.')[0] + \".txt\")\n",
    "        t1ds.append(t1d)\n",
    "        print t1d  "
   ]
  },
  {
   "cell_type": "code",
   "execution_count": 66,
   "metadata": {
    "collapsed": true
   },
   "outputs": [],
   "source": [
    "gender_data = {}\n",
    "gender_data['male'] = {}\n",
    "gender_data['male']['percent on registry'] = []\n",
    "gender_data['male']['average age'] = []\n",
    "gender_data['female'] = {}\n",
    "gender_data['female']['percent on registry'] = []\n",
    "gender_data['female']['average age'] = []"
   ]
  },
  {
   "cell_type": "code",
   "execution_count": 67,
   "metadata": {
    "collapsed": false
   },
   "outputs": [],
   "source": [
    "for t in t1ds:\n",
    "    agecol = 2\n",
    "    pctcol = 1\n",
    "    if t[0][1] == 'Average Age':\n",
    "        agecol = 1\n",
    "        pctcol = 2\n",
    "    \n",
    "    male = t[1]\n",
    "    female = t[2]\n",
    "    gender_data['male']['percent on registry'].append(float(male[pctcol].strip('%')))\n",
    "    gender_data['female']['percent on registry'].append(float(female[pctcol].strip('%')))\n",
    "    gender_data['male']['average age'].append(float(male[agecol]))\n",
    "    gender_data['female']['average age'].append(float(female[agecol]))"
   ]
  },
  {
   "cell_type": "code",
   "execution_count": 70,
   "metadata": {
    "collapsed": false
   },
   "outputs": [],
   "source": [
    "maleDF = pd.DataFrame(gender_data['male'])\n",
    "maleDF['gender'] = 'male'\n",
    "maleDF['year'] = docYears\n",
    "femaleDF = pd.DataFrame(gender_data['female'])\n",
    "femaleDF['gender'] = 'female'\n",
    "femaleDF['year'] = docYears\n",
    "genderDF = maleDF.append(femaleDF)"
   ]
  },
  {
   "cell_type": "code",
   "execution_count": 112,
   "metadata": {
    "collapsed": false
   },
   "outputs": [
    {
     "data": {
      "text/html": [
       "<div>\n",
       "<table border=\"1\" class=\"dataframe\">\n",
       "  <thead>\n",
       "    <tr style=\"text-align: right;\">\n",
       "      <th></th>\n",
       "      <th>average age</th>\n",
       "      <th>percent on registry</th>\n",
       "      <th>gender</th>\n",
       "      <th>year</th>\n",
       "    </tr>\n",
       "  </thead>\n",
       "  <tbody>\n",
       "    <tr>\n",
       "      <th>0</th>\n",
       "      <td>39.0</td>\n",
       "      <td>73.0</td>\n",
       "      <td>male</td>\n",
       "      <td>2010</td>\n",
       "    </tr>\n",
       "    <tr>\n",
       "      <th>1</th>\n",
       "      <td>39.0</td>\n",
       "      <td>72.0</td>\n",
       "      <td>male</td>\n",
       "      <td>2010</td>\n",
       "    </tr>\n",
       "    <tr>\n",
       "      <th>2</th>\n",
       "      <td>39.0</td>\n",
       "      <td>72.0</td>\n",
       "      <td>male</td>\n",
       "      <td>2010</td>\n",
       "    </tr>\n",
       "    <tr>\n",
       "      <th>3</th>\n",
       "      <td>39.0</td>\n",
       "      <td>71.0</td>\n",
       "      <td>male</td>\n",
       "      <td>2010</td>\n",
       "    </tr>\n",
       "    <tr>\n",
       "      <th>4</th>\n",
       "      <td>39.0</td>\n",
       "      <td>71.0</td>\n",
       "      <td>male</td>\n",
       "      <td>2010</td>\n",
       "    </tr>\n",
       "  </tbody>\n",
       "</table>\n",
       "</div>"
      ],
      "text/plain": [
       "   average age  percent on registry gender  year\n",
       "0         39.0                 73.0   male  2010\n",
       "1         39.0                 72.0   male  2010\n",
       "2         39.0                 72.0   male  2010\n",
       "3         39.0                 71.0   male  2010\n",
       "4         39.0                 71.0   male  2010"
      ]
     },
     "execution_count": 112,
     "metadata": {},
     "output_type": "execute_result"
    }
   ],
   "source": [
    "genderDF.head()"
   ]
  },
  {
   "cell_type": "code",
   "execution_count": 107,
   "metadata": {
    "collapsed": false
   },
   "outputs": [
    {
     "data": {
      "image/png": "[encoded data removed]",
      "text/plain": [
       "<matplotlib.figure.Figure at 0x7f9e4a6c1e50>"
      ]
     },
     "metadata": {},
     "output_type": "display_data"
    }
   ],
   "source": [
    "sns.set(font_scale=2)\n",
    "g = sns.factorplot(x=\"year\", y=\"average age\", hue=\"gender\",\n",
    "                   data=genderDF,\n",
    "                   size=8, ci=None)"
   ]
  },
  {
   "cell_type": "code",
   "execution_count": 108,
   "metadata": {
    "collapsed": false
   },
   "outputs": [
    {
     "data": {
      "image/png": "[encoded data removed]",
      "text/plain": [
       "<matplotlib.figure.Figure at 0x7f9e4a697890>"
      ]
     },
     "metadata": {},
     "output_type": "display_data"
    }
   ],
   "source": [
    "g = sns.factorplot(x=\"year\", y=\"percent on registry\", hue=\"gender\",\n",
    "                   data=genderDF,\n",
    "                   size=8, ci=None)"
   ]
  },
  {
   "cell_type": "code",
   "execution_count": null,
   "metadata": {
    "collapsed": true
   },
   "outputs": [],
   "source": [
    "line = Line(genderDF, y=['python', 'pypy', 'jython'],\n",
    "            dash=['python', 'pypy', 'jython'],\n",
    "            color=['python', 'pypy', 'jython'],\n",
    "            legend_sort_field = 'color',\n",
    "            legend_sort_direction = 'ascending',\n",
    "            title=\"Interpreter Sample Data\", ylabel='Duration', legend=True)\n",
    "\n",
    "output_file(\"line_single.html\", title=\"line_single.py example\")\n",
    "\n",
    "show(line)"
   ]
  },
  {
   "cell_type": "code",
   "execution_count": 191,
   "metadata": {
    "collapsed": true
   },
   "outputs": [],
   "source": [
    "def parse_pdf_county(file_n):\n",
    "    countyWords = set(['County', 'County (A-L)'])\n",
    "    with open(file_n) as f:\n",
    "        table = False\n",
    "        two_col = False\n",
    "        table_dat = []\n",
    "        for l in f.readlines():\n",
    "            words = [i.strip('\\n').strip() for i in l.split('  ') if i != '' and i != '\\n']\n",
    "            if len(words) > 0 and words[0] in countyWords:\n",
    "                table = True\n",
    "                if words[0] == 'County (A-L)':\n",
    "                    two_col = True\n",
    "            if table:\n",
    "                if two_col:\n",
    "                    if len(words) < 1:\n",
    "                        table = False\n",
    "                        table_dat[1:] = sorted(table_dat[1:], key=lambda x: x[0])\n",
    "                        continue\n",
    "                    col1 = words[:3]\n",
    "                    if words[0] == 'County (A-L)':\n",
    "                        table_dat.append(['County', '# of Patients', '% of Patients'])\n",
    "                    else:\n",
    "                        table_dat.append(col1)\n",
    "                        if len(words) > 3:\n",
    "                            col2 = words[3:]\n",
    "                            table_dat.append(col2)\n",
    "                else:\n",
    "    #                 print words\n",
    "    #                 print words[0] == '* Indicates fewer than three patients in the category'\n",
    "    #                 print table\n",
    "                    if len(words) < 2:\n",
    "                        if len(words) != 0 and words[0] == '* Indicates fewer than three patients in the category':\n",
    "                            table = False\n",
    "                        continue\n",
    "                    table_dat.append(words)\n",
    "\n",
    "        return table_dat"
   ]
  },
  {
   "cell_type": "code",
   "execution_count": 192,
   "metadata": {
    "collapsed": false
   },
   "outputs": [
    {
     "data": {
      "text/plain": [
       "'CHED_MMR_01_2010_%20MMR_report_draft.pdf'"
      ]
     },
     "execution_count": 192,
     "metadata": {},
     "output_type": "execute_result"
    }
   ],
   "source": [
    "r1"
   ]
  },
  {
   "cell_type": "code",
   "execution_count": 193,
   "metadata": {
    "collapsed": false
   },
   "outputs": [],
   "source": [
    "county = parse_pdf_county(r1.split('.')[0] + \".txt\")"
   ]
  },
  {
   "cell_type": "code",
   "execution_count": 194,
   "metadata": {
    "collapsed": false
   },
   "outputs": [
    {
     "data": {
      "text/plain": [
       "65"
      ]
     },
     "execution_count": 194,
     "metadata": {},
     "output_type": "execute_result"
    }
   ],
   "source": [
    "len(county)"
   ]
  },
  {
   "cell_type": "code",
   "execution_count": 195,
   "metadata": {
    "collapsed": false
   },
   "outputs": [
    {
     "name": "stdout",
     "output_type": "stream",
     "text": [
      "CHED_MMR_01_2010_%20MMR_report_draft.pdf\n",
      "65\n",
      "CHED_MMR_02_2010_%20MMR_report_draftx.pdf\n",
      "65\n",
      "CHED_MMR_03_2010_%20MMR_report_draft.pdf\n",
      "65\n",
      "CHED_MMR_04_2010_%20MMR_report_draft.pdf\n",
      "65\n",
      "CHED_MMR_05_2010_%20MMR_report_draft.pdf\n",
      "65\n",
      "CHED_MMR_06_2010_%20MMR_report_draft.pdf\n",
      "65\n",
      "CHED_MMR_07_2010_%20MMR_report_draft.pdf\n",
      "65\n",
      "CHED_MMR_08_2010_%20MMR_report_draft.pdf\n",
      "65\n",
      "CHED_MMR_09_2010_%20MMR_report_draft.pdf\n",
      "65\n",
      "CHED_MMR_10_2010_%20MMR_report_draft.pdf\n",
      "65\n",
      "CHED_MMR_11_2010_%20MMR_report_draft.pdf\n",
      "65\n",
      "CHED_MMR_12_2010_%20MMR_report.pdf\n",
      "65\n",
      "CHED_MMR_01_2011_MMR_report.pdf\n",
      "65\n",
      "CHED_MMR_02_2011_MMR_report.pdf\n",
      "65\n",
      "CHED_MMR_03_2011_MMR_report.pdf\n",
      "65\n",
      "CHED_MMR_04_2011_MMR_report.pdf\n",
      "65\n",
      "CHED_MMR_05_2011_MMR_report.pdf\n",
      "65\n",
      "CHED_MMR_06_2011_MMR_report.pdf\n",
      "65\n",
      "CHED_MMR_07_2011_MMR_report.pdf\n",
      "65\n",
      "CHED_MMR_08_2011_MMR_report.pdf\n",
      "65\n",
      "CHED_MMR_09_2011_MMR_report.pdf\n",
      "65\n",
      "CHED_MMR_10_2011_MMR_report.pdf\n",
      "65\n",
      "CHED_MMR_11_2011_MMR_report.pdf\n",
      "65\n",
      "CHED_MMR_12_2011_MMR_report.pdf\n",
      "65\n",
      "CHED_MMR_01_2012_MMR_report.pdf\n",
      "65\n",
      "CHED_MMR_02_2012_MMR_report.pdf\n",
      "65\n",
      "CHED_MMR_03_2012_MMR_report.pdf\n",
      "65\n",
      "CHED_MMR_04_2012_MMR_report.pdf\n",
      "65\n",
      "CHED_MMR_05_2012_MMR_report.pdf\n",
      "65\n",
      "CHED_MMR_06_2012_MMR_report.pdf\n",
      "65\n",
      "CHED_MMR_07_2012_MMR_report.pdf\n",
      "65\n",
      "CHED_MMR_08_2012_MMR_report.pdf\n",
      "65\n",
      "CHED_MMR_09_2012_MMR_report.pdf\n",
      "65\n",
      "CHED_MMR_10_2012_MMR_report.pdf\n",
      "65\n",
      "CHED_MMR_11_2012_MMR_report.pdf\n",
      "65\n",
      "CHED_MMR_12_2012_MMR_report.pdf\n",
      "65\n",
      "CHED_MMJ_01_2013_MMR_report.pdf\n",
      "65\n",
      "CHED_MMJ_02_2013_MMR_report.pdf\n",
      "65\n",
      "CHED_MMJ_03_2013_MMR_report.pdf\n",
      "65\n",
      "CHED_MMJ_04_2013_MMR_report.pdf\n",
      "65\n",
      "CHED_MMJ_05_2013_MMR_report.pdf\n",
      "65\n",
      "CHED_MMJ_06_2013_MMR_report.pdf\n",
      "65\n",
      "CHED_MMJ_07_2013_MMR_report.pdf\n",
      "65\n",
      "CHED_MMJ_08_2013_MMR_report.pdf\n",
      "65\n",
      "CHED_MMJ_09_2013_MMR_report.pdf\n",
      "65\n",
      "CHED_MMJ_10_2013_MMR_report.pdf\n",
      "65\n",
      "CHED_MMJ_11_2013_MMR_report.pdf\n",
      "65\n",
      "CHED_MMJ_12_2013_MMR_report.pdf\n",
      "65\n",
      "CHED_MMJ_01_2014_MMR_report.pdf\n",
      "65\n",
      "CHED_MMJ_02_2014_MMR_report.pdf\n",
      "65\n",
      "CHED_MMJ_03_2014_MMR_report.pdf\n",
      "65\n",
      "CHED_MMJ_04_2014_MMR_report.pdf\n",
      "65\n",
      "CHED_MMJ_05_2014_MMR_report.pdf\n",
      "65\n",
      "CHED_MMJ_06_2014_MMR_report.pdf\n",
      "65\n",
      "CHED_MMJ_07_2014_%20MMR_report2.pdf\n",
      "65\n",
      "CHED_MMJ_08_2014_%20MMR_report.pdf\n",
      "65\n",
      "CHED_MMJ_09_2014_%20MMR_report_0.pdf\n",
      "65\n",
      "CHED_MMJ_10_2014_%20MMR_report.pdf\n",
      "65\n",
      "CHED_MMJ_11_2014_%20MMR_report.pdf\n",
      "65\n",
      "CHED_MMJ_12_2014_MMR_Report.pdf\n",
      "65\n",
      "CHED-MMJ_1_2015_MMR_REPORT.pdf\n",
      "65\n",
      "CHED_MMR_StatisticsReport_0215.pdf\n",
      "65\n",
      "03_2015_%20MMR_report_draft.pdf\n",
      "65\n",
      "04_2015_MMR_Stats.pdf\n",
      "65\n",
      "05_2015_MMR_report.pdf\n",
      "65\n",
      "06_2015_MMR_report.pdf\n",
      "65\n",
      "07_2015_MMRReport.pdf\n",
      "65\n",
      "CHED_MMR_Report_08_2015_1115.pdf\n",
      "65\n",
      "09_2015_MMRreport.pdf\n",
      "65\n",
      "CHED_MMR_Report_October2015_Statistics_0116.pdf\n",
      "65\n",
      "CHED_MMR_Report_November2015_Statistics_0116.pdf\n",
      "65\n",
      "CHED_MMR_Report_December2015_Statistics_0116.pdf\n",
      "65\n",
      "CHED_MMR_Report_January2016_Statistics_0416.pdf\n",
      "65\n",
      "CHED_MMR_Report_February2016_Statistics_0416.pdf\n",
      "65\n",
      "CHED_MMR__Report_March2016_Statistics_0416.pdf\n",
      "65\n",
      "CHED_MMR_Monthly_Report_Statistics_April_2016.pdf\n",
      "65\n",
      "CHED_MMR_Monthly_Report_Statistics_May_2016.pdf\n",
      "65\n",
      "CHED_MMR_Monthly_Report_Statistics_June_%202016.pdf\n",
      "65\n",
      "CHED_MMR_Monthly_Report_Statistics_July_2016.pdf\n",
      "65\n",
      "CHED_MMR_Report_August_2016_Statistics_092016_1.pdf\n",
      "65\n"
     ]
    }
   ],
   "source": [
    "county_data = []\n",
    "docYears = []\n",
    "for y in years:\n",
    "    for rep in [r.split('/')[-1] for r in report_dict[y][::-1]]:\n",
    "        docYears.append(int(y))\n",
    "        print rep\n",
    "        county = parse_pdf_county(rep.split('.')[0] + \".txt\")\n",
    "        county_data.append(county)\n",
    "        print len(county)"
   ]
  },
  {
   "cell_type": "code",
   "execution_count": 196,
   "metadata": {
    "collapsed": false
   },
   "outputs": [
    {
     "data": {
      "text/plain": [
       "[['County', '# of Patients', '% of Patients'],\n",
       " ['Adams', '7,157', '7.0%'],\n",
       " ['Alamosa', '231', '<1%'],\n",
       " ['Arapahoe', '9,112', '8.9%'],\n",
       " ['Archuleta', '509', '<1%'],\n",
       " ['Baca', '41', '<1%'],\n",
       " ['Bent', '76', '<1%'],\n",
       " ['Boulder', '7,406', '7.2%'],\n",
       " ['Broomfield', '1,024', '<1%'],\n",
       " ['Chaffee', '371', '<1%'],\n",
       " ['Cheyenne', '21', '<1%'],\n",
       " ['Clear Creek', '333', '<1%'],\n",
       " ['Conejos', '60', '<1%'],\n",
       " ['Costilla', '189', '<1%'],\n",
       " ['Crowley', '87', '<1%'],\n",
       " ['Custer', '134', '<1%'],\n",
       " ['Delta', '594', '<1%'],\n",
       " ['Denver', '14,387', '14.0%'],\n",
       " ['Dolores', '60', '<1%'],\n",
       " ['Douglas', '2,949', '2.9%'],\n",
       " ['Eagle', '947', '<1%'],\n",
       " ['El Paso', '19,295', '18.8%'],\n",
       " ['Elbert', '283', '<1%'],\n",
       " ['Fremont', '1,321', '1.3%'],\n",
       " ['Garfield', '1,000', '<1%'],\n",
       " ['Gilpin', '230', '<1%'],\n",
       " ['Grand', '310', '<1%'],\n",
       " ['Gunnison', '209', '<1%'],\n",
       " ['Hinsdale', '7', '<1%'],\n",
       " ['Huerfano', '250', '<1%'],\n",
       " ['Jackson', '25', '<1%'],\n",
       " ['Jefferson', '10,774', '10.5%'],\n",
       " ['Kiowa', '9', '<1%'],\n",
       " ['Kit Carson', '52', '<1%'],\n",
       " ['La Plata', '1,539', '1.5%'],\n",
       " ['Lake', '173', '<1%'],\n",
       " ['Larimer', '5,370', '5.2%'],\n",
       " ['Las Animas', '423', '<1%'],\n",
       " ['Lincoln', '63', '<1%'],\n",
       " ['Logan', '189', '<1%'],\n",
       " ['Mesa', '1,867', '1.8%'],\n",
       " ['Mineral', '18', '<1%'],\n",
       " ['Moffat', '219', '<1%'],\n",
       " ['Montezuma', '655', '<1%'],\n",
       " ['Montrose', '667', '<1%'],\n",
       " ['Morgan', '213', '<1%'],\n",
       " ['Otero', '283', '<1%'],\n",
       " ['Ouray', '127', '<1%'],\n",
       " ['Park', '609', '<1%'],\n",
       " ['Phillips', '22', '<1%'],\n",
       " ['Pitkin', '408', '<1%'],\n",
       " ['Prowers', '149', '<1%'],\n",
       " ['Pueblo', '3,941', '3.8%'],\n",
       " ['Rio Blanco', '62', '<1%'],\n",
       " ['Rio Grande', '172', '<1%'],\n",
       " ['Routt', '873', '<1%'],\n",
       " ['Saguache', '178', '<1%'],\n",
       " ['San Juan', '15', '<1%'],\n",
       " ['San Miguel', '235', '<1%'],\n",
       " ['Sedgwick', '67', '<1%'],\n",
       " ['Summit', '698', '<1%'],\n",
       " ['Teller', '874', '<1%'],\n",
       " ['Washington', '50', '<1%'],\n",
       " ['Weld', '3,131', '3.0%'],\n",
       " ['Yuma', '86', '<1%']]"
      ]
     },
     "execution_count": 196,
     "metadata": {},
     "output_type": "execute_result"
    }
   ],
   "source": [
    "county_data[-1]"
   ]
  },
  {
   "cell_type": "code",
   "execution_count": null,
   "metadata": {
    "collapsed": true
   },
   "outputs": [],
   "source": []
  }
 ],
 "metadata": {
  "kernelspec": {
   "display_name": "Python 2",
   "language": "python",
   "name": "python2"
  },
  "language_info": {
   "codemirror_mode": {
    "name": "ipython",
    "version": 2
   },
   "file_extension": ".py",
   "mimetype": "text/x-python",
   "name": "python",
   "nbconvert_exporter": "python",
   "pygments_lexer": "ipython2",
   "version": "2.7.12"
  }
 },
 "nbformat": 4,
 "nbformat_minor": 1
}
